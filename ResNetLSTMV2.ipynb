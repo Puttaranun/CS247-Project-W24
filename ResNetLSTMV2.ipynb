{
 "cells": [
  {
   "cell_type": "markdown",
   "metadata": {},
   "source": [
    "# CNN-LSTM Hybrid for Decoding EEG\n",
    "\n",
    "In this notebook, we will explore how a Resnet-LSTM performs on EEG data, which has both spatial and temporal components."
   ]
  },
  {
   "cell_type": "code",
   "execution_count": 1,
   "metadata": {},
   "outputs": [
    {
     "data": {
      "text/plain": [
       "<contextlib.ExitStack at 0x1daa08a4110>"
      ]
     },
     "execution_count": 1,
     "metadata": {},
     "output_type": "execute_result"
    }
   ],
   "source": [
    "from resnetLSTMv2 import *\n",
    "\n",
    "import torch\n",
    "import torch.nn as nn\n",
    "import torch.optim as optim\n",
    "from torch.optim import lr_scheduler\n",
    "import torch.backends.cudnn as cudnn\n",
    "import numpy as np\n",
    "import torchvision\n",
    "from torchvision import datasets, models, transforms\n",
    "from torch import Tensor\n",
    "from typing import Type\n",
    "import matplotlib.pyplot as plt\n",
    "import time\n",
    "import os\n",
    "from PIL import Image\n",
    "from tempfile import TemporaryDirectory\n",
    "import random\n",
    "\n",
    "cudnn.benchmark = True\n",
    "plt.ion()   # interactive mode"
   ]
  },
  {
   "cell_type": "code",
   "execution_count": 2,
   "metadata": {},
   "outputs": [
    {
     "name": "stdout",
     "output_type": "stream",
     "text": [
      "Using cuda\n"
     ]
    }
   ],
   "source": [
    "if torch.cuda.is_available():\n",
    "  device = torch.device('cuda')\n",
    "elif torch.backends.mps.is_available():\n",
    "  device = torch.device('mps')\n",
    "else:\n",
    "  device = torch.device('cpu')\n",
    "\n",
    "print(\"Using\", device)"
   ]
  },
  {
   "cell_type": "code",
   "execution_count": 14,
   "metadata": {},
   "outputs": [
    {
     "name": "stdout",
     "output_type": "stream",
     "text": [
      "X train:  (2115, 22, 1000)\n",
      "y train:  (2115,)\n",
      "Person train+valid:  (2115, 1)\n",
      "X test:  (443, 22, 1000)\n",
      "y test:  (443,)\n",
      "Person test:  (443, 1)\n"
     ]
    }
   ],
   "source": [
    "# Load training data\n",
    "X_train_valid = np.load(\"C:/Users/awong/OneDrive/Desktop/PythonScripts/C147HW/Final Project/project_data/project/X_train_valid.npy\")\n",
    "y_train_valid = np.load(\"C:/Users/awong/OneDrive/Desktop/PythonScripts/C147HW/Final Project/project_data/project/y_train_valid.npy\")\n",
    "y_train_valid = y_train_valid - 769\n",
    "person_train_valid = np.load(\"C:/Users/awong/OneDrive/Desktop/PythonScripts/C147HW/Final Project/project_data/project/person_train_valid.npy\")\n",
    "\n",
    "# Load test data\n",
    "x_test = np.load(\"C:/Users/awong/OneDrive/Desktop/PythonScripts/C147HW/Final Project/project_data/project/X_test.npy\")\n",
    "y_test = np.load(\"C:/Users/awong/OneDrive/Desktop/PythonScripts/C147HW/Final Project/project_data/project/y_test.npy\")\n",
    "y_test = y_test - 769\n",
    "person_test = np.load(\"C:/Users/awong/OneDrive/Desktop/PythonScripts/C147HW/Final Project/project_data/project/person_test.npy\")\n",
    "\n",
    "# Print shapes\n",
    "print('X train: ', X_train_valid.shape)\n",
    "print('y train: ', y_train_valid.shape)\n",
    "print('Person train+valid: ', person_train_valid.shape)\n",
    "print('X test: ', x_test.shape)\n",
    "print('y test: ', y_test.shape)\n",
    "print('Person test: ', person_test.shape)"
   ]
  },
  {
   "cell_type": "markdown",
   "metadata": {},
   "source": [
    "## Part 1: Training and validating on raw EEG data"
   ]
  },
  {
   "cell_type": "code",
   "execution_count": 4,
   "metadata": {},
   "outputs": [
    {
     "name": "stdout",
     "output_type": "stream",
     "text": [
      "Training and Validation shapes before preprocessing: \n",
      "X train:  (1692, 22, 1000)  Y train:  (1692,)\n",
      "X val:  (423, 22, 1000)  Y val (423,)\n",
      "Shape of training set: torch.Size([1692, 22, 1000])\n",
      "Shape of validation set: torch.Size([423, 22, 1000])\n",
      "Shape of training labels: (1692,)\n",
      "Shape of validation labels: (423,)\n",
      "Shape of training labels after categorical conversion: torch.Size([1692, 4])\n",
      "Shape of validation labels after categorical conversion: torch.Size([423, 4])\n",
      "Shape of test labels after categorical conversion: torch.Size([443, 4])\n",
      "Shape of training set after adding width info: torch.Size([1692, 22, 1000, 1])\n",
      "Shape of validation set after adding width info: torch.Size([423, 22, 1000, 1])\n",
      "Shape of test set after adding width info: (443, 22, 1000, 1)\n",
      "Shape of training set after dimension reshaping: torch.Size([1692, 1, 22, 1000])\n",
      "Shape of validation set after dimension reshaping: torch.Size([423, 1, 22, 1000])\n",
      "Shape of test set after dimension reshaping: torch.Size([443, 1, 22, 1000])\n"
     ]
    }
   ],
   "source": [
    "## Randomly split the train/validation dataset\n",
    "ind_valid = np.random.choice(X_train_valid.shape[0], int(X_train_valid.shape[0]/5), replace=False)\n",
    "ind_train = np.array(list(set(range(X_train_valid.shape[0])).difference(set(ind_valid))))\n",
    "x_valid, y_valid = X_train_valid[ind_valid], y_train_valid[ind_valid]\n",
    "x_train, y_train = X_train_valid[ind_train], y_train_valid[ind_train]\n",
    "print('Training and Validation shapes before preprocessing: ')\n",
    "print('X train: ', x_train.shape, ' Y train: ', y_train.shape)\n",
    "print('X val: ', x_valid.shape, ' Y val', y_valid.shape)\n",
    "\n",
    "#Convert to tensors\n",
    "x_train = torch.tensor(x_train).detach().float().to(device)\n",
    "x_valid = torch.tensor(x_valid).detach().float().to(device)\n",
    "print('Shape of training set:',x_train.shape)\n",
    "print('Shape of validation set:',x_valid.shape)\n",
    "print('Shape of training labels:',y_train.shape)\n",
    "print('Shape of validation labels:',y_valid.shape)\n",
    "\n",
    "# Converting the labels to categorical variables for multiclass classification\n",
    "y_train, y_valid, y_test = torch.tensor(y_train).to(device), torch.tensor(y_valid).to(device), torch.tensor(y_test).to(device)\n",
    "y_train = nn.functional.one_hot(y_train.long(), 4)\n",
    "y_valid = nn.functional.one_hot(y_valid.long(), 4)\n",
    "y_test = nn.functional.one_hot(y_test.long(), 4)\n",
    "print('Shape of training labels after categorical conversion:',y_train.shape)\n",
    "print('Shape of validation labels after categorical conversion:',y_valid.shape)\n",
    "print('Shape of test labels after categorical conversion:',y_test.shape)\n",
    "\n",
    "# Adding width of the segment to be 1\n",
    "x_train = x_train.reshape(x_train.shape[0], x_train.shape[1], x_train.shape[2], 1)\n",
    "x_valid = x_valid.reshape(x_valid.shape[0], x_valid.shape[1], x_train.shape[2], 1)\n",
    "x_test = x_test.reshape(x_test.shape[0], x_test.shape[1], x_test.shape[2], 1)\n",
    "print('Shape of training set after adding width info:',x_train.shape)\n",
    "print('Shape of validation set after adding width info:',x_valid.shape)\n",
    "print('Shape of test set after adding width info:',x_test.shape)\n",
    "\n",
    "\n",
    "# Reshaping the training and validation dataset\n",
    "x_train = np.swapaxes(x_train, 1,3)\n",
    "x_train = np.swapaxes(x_train, 2,3)\n",
    "x_valid = np.swapaxes(x_valid, 1,3)\n",
    "x_valid = np.swapaxes(x_valid, 2,3)\n",
    "x_test = np.swapaxes(x_test, 1,3)\n",
    "x_test = np.swapaxes(x_test, 2,3)\n",
    "x_test = torch.tensor(x_test).detach().float().to(device)\n",
    "print('Shape of training set after dimension reshaping:',x_train.shape)\n",
    "print('Shape of validation set after dimension reshaping:',x_valid.shape)\n",
    "print('Shape of test set after dimension reshaping:',x_test.shape)"
   ]
  },
  {
   "cell_type": "code",
   "execution_count": 5,
   "metadata": {},
   "outputs": [
    {
     "name": "stdout",
     "output_type": "stream",
     "text": [
      "10 10\n"
     ]
    }
   ],
   "source": [
    "#Test random sample function\n",
    "bsz = 10\n",
    "x_train_sample, y_train_sample = sample(x_train, y_train, bsz)\n",
    "print(len(x_train_sample), len(y_train_sample))"
   ]
  },
  {
   "cell_type": "markdown",
   "metadata": {},
   "source": [
    "Build model 1 for training on raw EEG dataset"
   ]
  },
  {
   "cell_type": "code",
   "execution_count": 6,
   "metadata": {},
   "outputs": [
    {
     "name": "stdout",
     "output_type": "stream",
     "text": [
      "1000\n"
     ]
    },
    {
     "name": "stderr",
     "output_type": "stream",
     "text": [
      "c:\\Users\\awong\\anaconda3\\envs\\c147proj\\Lib\\site-packages\\torch\\nn\\modules\\rnn.py:83: UserWarning: dropout option adds dropout after all but last recurrent layer, so non-zero dropout expects num_layers greater than 1, but got dropout=0.6 and num_layers=1\n",
      "  warnings.warn(\"dropout option adds dropout after all but last \"\n"
     ]
    },
    {
     "name": "stdout",
     "output_type": "stream",
     "text": [
      "ResNetLSTM(\n",
      "  (conv1): Conv2d(1, 48, kernel_size=(1, 3), stride=(1, 1), padding=same, bias=False)\n",
      "  (bn1): BatchNorm2d(48, eps=1e-05, momentum=0.1, affine=True, track_running_stats=True)\n",
      "  (relu): ReLU(inplace=True)\n",
      "  (conv2): Conv2d(48, 48, kernel_size=(22, 1), stride=(1, 1), bias=False)\n",
      "  (bn2): BatchNorm2d(48, eps=1e-05, momentum=0.1, affine=True, track_running_stats=True)\n",
      "  (elu): ELU(alpha=1.0, inplace=True)\n",
      "  (res1): BasicBlock(\n",
      "    (conv1): Conv2d(48, 48, kernel_size=(1, 3), stride=(1, 1), padding=same, bias=False)\n",
      "    (bn1): BatchNorm2d(48, eps=1e-05, momentum=0.1, affine=True, track_running_stats=True)\n",
      "    (dropout1): Dropout2d(p=0.6, inplace=False)\n",
      "    (elu): ELU(alpha=1.0, inplace=True)\n",
      "    (conv2): Conv2d(48, 48, kernel_size=(1, 3), stride=(1, 1), padding=same, bias=False)\n",
      "    (bn2): BatchNorm2d(48, eps=1e-05, momentum=0.1, affine=True, track_running_stats=True)\n",
      "    (dropout2): Dropout2d(p=0.6, inplace=False)\n",
      "    (shortcut): Identity()\n",
      "  )\n",
      "  (res2): BasicBlock(\n",
      "    (conv1): Conv2d(48, 48, kernel_size=(1, 3), stride=(1, 1), padding=same, bias=False)\n",
      "    (bn1): BatchNorm2d(48, eps=1e-05, momentum=0.1, affine=True, track_running_stats=True)\n",
      "    (dropout1): Dropout2d(p=0.6, inplace=False)\n",
      "    (elu): ELU(alpha=1.0, inplace=True)\n",
      "    (conv2): Conv2d(48, 48, kernel_size=(1, 3), stride=(1, 1), padding=same, bias=False)\n",
      "    (bn2): BatchNorm2d(48, eps=1e-05, momentum=0.1, affine=True, track_running_stats=True)\n",
      "    (dropout2): Dropout2d(p=0.6, inplace=False)\n",
      "    (shortcut): Identity()\n",
      "  )\n",
      "  (res3): BasicBlock(\n",
      "    (conv1): Conv2d(48, 96, kernel_size=(1, 3), stride=(1, 2), padding=(0, 1), bias=False)\n",
      "    (bn1): BatchNorm2d(96, eps=1e-05, momentum=0.1, affine=True, track_running_stats=True)\n",
      "    (dropout1): Dropout2d(p=0.6, inplace=False)\n",
      "    (elu): ELU(alpha=1.0, inplace=True)\n",
      "    (conv2): Conv2d(96, 96, kernel_size=(1, 3), stride=(1, 1), padding=same, bias=False)\n",
      "    (bn2): BatchNorm2d(96, eps=1e-05, momentum=0.1, affine=True, track_running_stats=True)\n",
      "    (dropout2): Dropout2d(p=0.6, inplace=False)\n",
      "    (shortcut): Sequential(\n",
      "      (0): Conv2d(48, 96, kernel_size=(1, 1), stride=(2, 2), bias=False)\n",
      "      (1): BatchNorm2d(96, eps=1e-05, momentum=0.1, affine=True, track_running_stats=True)\n",
      "    )\n",
      "  )\n",
      "  (avgpool): AvgPool2d(kernel_size=(1, 10), stride=1, padding=0)\n",
      "  (conv3): Conv2d(96, 4, kernel_size=(1, 1), stride=(1, 1), bias=False)\n",
      "  (fc1): Linear(in_features=1964, out_features=10, bias=True)\n",
      "  (lstm): LSTM(10, 10, batch_first=True, dropout=0.6)\n",
      "  (fc2): Linear(in_features=10, out_features=4, bias=True)\n",
      ")\n",
      "146,670 total parameters.\n",
      "146,670 training parameters.\n"
     ]
    }
   ],
   "source": [
    "print(x_train.size(3))\n",
    "model1 = ResNetLSTM(img_channels=1, block=BasicBlock, num_classes=4, time_dim=1000, dropout=0.6).to(device)\n",
    "print(model1)\n",
    "total_params = sum(p.numel() for p in model1.parameters())\n",
    "print(f\"{total_params:,} total parameters.\")\n",
    "total_trainable_params = sum(p.numel() for p in model1.parameters() if p.requires_grad)\n",
    "print(f\"{total_trainable_params:,} training parameters.\")"
   ]
  },
  {
   "cell_type": "code",
   "execution_count": 7,
   "metadata": {},
   "outputs": [],
   "source": [
    "# Choose Criterion and Optimizer\n",
    "criterion = nn.CrossEntropyLoss()\n",
    "optimizer = torch.optim.Adam(model1.parameters(), lr=0.001, weight_decay=1e-4)"
   ]
  },
  {
   "cell_type": "code",
   "execution_count": 8,
   "metadata": {},
   "outputs": [
    {
     "name": "stderr",
     "output_type": "stream",
     "text": [
      "  0%|          | 0/50 [00:00<?, ?it/s]"
     ]
    },
    {
     "name": "stderr",
     "output_type": "stream",
     "text": [
      "C:\\Users\\awong\\AppData\\Local\\Temp\\ipykernel_26776\\76442630.py:50: UserWarning: Implicit dimension choice for softmax has been deprecated. Change the call to include dim=X as an argument.\n",
      "  logits = nn.functional.softmax(logits)\n",
      "  2%|▏         | 1/50 [04:42<3:50:32, 282.29s/it]"
     ]
    },
    {
     "name": "stdout",
     "output_type": "stream",
     "text": [
      "Epoch 1 Finished!!!\n",
      "Train acc: 0.270, Val acc: 0.246\n",
      "Train loss: 1.386, Val loss: 1.386\n",
      "Epoch 2 Finished!!!\n"
     ]
    },
    {
     "name": "stderr",
     "output_type": "stream",
     "text": [
      "  4%|▍         | 2/50 [05:03<1:42:51, 128.56s/it]"
     ]
    },
    {
     "name": "stdout",
     "output_type": "stream",
     "text": [
      "Train acc: 0.200, Val acc: 0.255\n",
      "Train loss: 1.394, Val loss: 1.385\n",
      "Epoch 3 Finished!!!\n"
     ]
    },
    {
     "name": "stderr",
     "output_type": "stream",
     "text": [
      "  6%|▌         | 3/50 [05:23<1:02:08, 79.33s/it] "
     ]
    },
    {
     "name": "stdout",
     "output_type": "stream",
     "text": [
      "Train acc: 0.340, Val acc: 0.248\n",
      "Train loss: 1.379, Val loss: 1.387\n",
      "Epoch 4 Finished!!!\n"
     ]
    },
    {
     "name": "stderr",
     "output_type": "stream",
     "text": [
      "  8%|▊         | 4/50 [05:44<43:09, 56.28s/it]  "
     ]
    },
    {
     "name": "stdout",
     "output_type": "stream",
     "text": [
      "Train acc: 0.300, Val acc: 0.274\n",
      "Train loss: 1.374, Val loss: 1.379\n",
      "Epoch 5 Finished!!!\n"
     ]
    },
    {
     "name": "stderr",
     "output_type": "stream",
     "text": [
      " 10%|█         | 5/50 [06:05<32:34, 43.44s/it]"
     ]
    },
    {
     "name": "stdout",
     "output_type": "stream",
     "text": [
      "Train acc: 0.320, Val acc: 0.293\n",
      "Train loss: 1.369, Val loss: 1.377\n",
      "Epoch 6 Finished!!!\n"
     ]
    },
    {
     "name": "stderr",
     "output_type": "stream",
     "text": [
      " 12%|█▏        | 6/50 [06:26<26:17, 35.85s/it]"
     ]
    },
    {
     "name": "stdout",
     "output_type": "stream",
     "text": [
      "Train acc: 0.330, Val acc: 0.291\n",
      "Train loss: 1.366, Val loss: 1.375\n",
      "Epoch 7 Finished!!!\n"
     ]
    },
    {
     "name": "stderr",
     "output_type": "stream",
     "text": [
      " 14%|█▍        | 7/50 [06:47<22:05, 30.82s/it]"
     ]
    },
    {
     "name": "stdout",
     "output_type": "stream",
     "text": [
      "Train acc: 0.350, Val acc: 0.319\n",
      "Train loss: 1.360, Val loss: 1.370\n",
      "Epoch 8 Finished!!!\n"
     ]
    },
    {
     "name": "stderr",
     "output_type": "stream",
     "text": [
      " 16%|█▌        | 8/50 [07:07<19:14, 27.50s/it]"
     ]
    },
    {
     "name": "stdout",
     "output_type": "stream",
     "text": [
      "Train acc: 0.430, Val acc: 0.336\n",
      "Train loss: 1.342, Val loss: 1.362\n",
      "Epoch 9 Finished!!!\n"
     ]
    },
    {
     "name": "stderr",
     "output_type": "stream",
     "text": [
      " 18%|█▊        | 9/50 [07:27<17:16, 25.28s/it]"
     ]
    },
    {
     "name": "stdout",
     "output_type": "stream",
     "text": [
      "Train acc: 0.390, Val acc: 0.333\n",
      "Train loss: 1.353, Val loss: 1.357\n",
      "Epoch 10 Finished!!!\n"
     ]
    },
    {
     "name": "stderr",
     "output_type": "stream",
     "text": [
      " 20%|██        | 10/50 [07:48<15:53, 23.84s/it]"
     ]
    },
    {
     "name": "stdout",
     "output_type": "stream",
     "text": [
      "Train acc: 0.400, Val acc: 0.362\n",
      "Train loss: 1.324, Val loss: 1.349\n",
      "Epoch 11 Finished!!!\n"
     ]
    },
    {
     "name": "stderr",
     "output_type": "stream",
     "text": [
      " 22%|██▏       | 11/50 [08:08<14:48, 22.78s/it]"
     ]
    },
    {
     "name": "stdout",
     "output_type": "stream",
     "text": [
      "Train acc: 0.420, Val acc: 0.348\n",
      "Train loss: 1.324, Val loss: 1.351\n",
      "Epoch 12 Finished!!!\n"
     ]
    },
    {
     "name": "stderr",
     "output_type": "stream",
     "text": [
      " 24%|██▍       | 12/50 [08:29<14:00, 22.13s/it]"
     ]
    },
    {
     "name": "stdout",
     "output_type": "stream",
     "text": [
      "Train acc: 0.500, Val acc: 0.371\n",
      "Train loss: 1.290, Val loss: 1.344\n",
      "Epoch 13 Finished!!!\n"
     ]
    },
    {
     "name": "stderr",
     "output_type": "stream",
     "text": [
      " 26%|██▌       | 13/50 [08:50<13:24, 21.74s/it]"
     ]
    },
    {
     "name": "stdout",
     "output_type": "stream",
     "text": [
      "Train acc: 0.370, Val acc: 0.369\n",
      "Train loss: 1.318, Val loss: 1.344\n",
      "Epoch 14 Finished!!!\n"
     ]
    },
    {
     "name": "stderr",
     "output_type": "stream",
     "text": [
      " 28%|██▊       | 14/50 [09:11<12:53, 21.49s/it]"
     ]
    },
    {
     "name": "stdout",
     "output_type": "stream",
     "text": [
      "Train acc: 0.380, Val acc: 0.404\n",
      "Train loss: 1.312, Val loss: 1.325\n",
      "Epoch 15 Finished!!!\n"
     ]
    },
    {
     "name": "stderr",
     "output_type": "stream",
     "text": [
      " 30%|███       | 15/50 [09:32<12:26, 21.34s/it]"
     ]
    },
    {
     "name": "stdout",
     "output_type": "stream",
     "text": [
      "Train acc: 0.410, Val acc: 0.416\n",
      "Train loss: 1.310, Val loss: 1.321\n",
      "Epoch 16 Finished!!!\n"
     ]
    },
    {
     "name": "stderr",
     "output_type": "stream",
     "text": [
      " 32%|███▏      | 16/50 [09:53<12:00, 21.21s/it]"
     ]
    },
    {
     "name": "stdout",
     "output_type": "stream",
     "text": [
      "Train acc: 0.470, Val acc: 0.392\n",
      "Train loss: 1.268, Val loss: 1.327\n",
      "Epoch 17 Finished!!!\n"
     ]
    },
    {
     "name": "stderr",
     "output_type": "stream",
     "text": [
      " 34%|███▍      | 17/50 [10:14<11:38, 21.17s/it]"
     ]
    },
    {
     "name": "stdout",
     "output_type": "stream",
     "text": [
      "Train acc: 0.480, Val acc: 0.392\n",
      "Train loss: 1.257, Val loss: 1.322\n",
      "Epoch 18 Finished!!!\n"
     ]
    },
    {
     "name": "stderr",
     "output_type": "stream",
     "text": [
      " 36%|███▌      | 18/50 [10:35<11:15, 21.12s/it]"
     ]
    },
    {
     "name": "stdout",
     "output_type": "stream",
     "text": [
      "Train acc: 0.450, Val acc: 0.437\n",
      "Train loss: 1.283, Val loss: 1.304\n",
      "Epoch 19 Finished!!!\n"
     ]
    },
    {
     "name": "stderr",
     "output_type": "stream",
     "text": [
      " 38%|███▊      | 19/50 [10:56<10:53, 21.07s/it]"
     ]
    },
    {
     "name": "stdout",
     "output_type": "stream",
     "text": [
      "Train acc: 0.520, Val acc: 0.421\n",
      "Train loss: 1.265, Val loss: 1.307\n",
      "Epoch 20 Finished!!!\n"
     ]
    },
    {
     "name": "stderr",
     "output_type": "stream",
     "text": [
      " 40%|████      | 20/50 [11:17<10:31, 21.05s/it]"
     ]
    },
    {
     "name": "stdout",
     "output_type": "stream",
     "text": [
      "Train acc: 0.470, Val acc: 0.418\n",
      "Train loss: 1.284, Val loss: 1.303\n",
      "Epoch 21 Finished!!!\n"
     ]
    },
    {
     "name": "stderr",
     "output_type": "stream",
     "text": [
      " 42%|████▏     | 21/50 [11:38<10:07, 20.96s/it]"
     ]
    },
    {
     "name": "stdout",
     "output_type": "stream",
     "text": [
      "Train acc: 0.500, Val acc: 0.388\n",
      "Train loss: 1.264, Val loss: 1.318\n",
      "Epoch 22 Finished!!!\n"
     ]
    },
    {
     "name": "stderr",
     "output_type": "stream",
     "text": [
      " 44%|████▍     | 22/50 [11:58<09:46, 20.94s/it]"
     ]
    },
    {
     "name": "stdout",
     "output_type": "stream",
     "text": [
      "Train acc: 0.460, Val acc: 0.428\n",
      "Train loss: 1.254, Val loss: 1.298\n",
      "Epoch 23 Finished!!!\n"
     ]
    },
    {
     "name": "stderr",
     "output_type": "stream",
     "text": [
      " 46%|████▌     | 23/50 [12:19<09:25, 20.96s/it]"
     ]
    },
    {
     "name": "stdout",
     "output_type": "stream",
     "text": [
      "Train acc: 0.490, Val acc: 0.397\n",
      "Train loss: 1.262, Val loss: 1.302\n",
      "Epoch 24 Finished!!!\n"
     ]
    },
    {
     "name": "stderr",
     "output_type": "stream",
     "text": [
      " 48%|████▊     | 24/50 [12:41<09:06, 21.01s/it]"
     ]
    },
    {
     "name": "stdout",
     "output_type": "stream",
     "text": [
      "Train acc: 0.470, Val acc: 0.402\n",
      "Train loss: 1.278, Val loss: 1.303\n",
      "Epoch 25 Finished!!!\n"
     ]
    },
    {
     "name": "stderr",
     "output_type": "stream",
     "text": [
      " 50%|█████     | 25/50 [13:02<08:45, 21.02s/it]"
     ]
    },
    {
     "name": "stdout",
     "output_type": "stream",
     "text": [
      "Train acc: 0.570, Val acc: 0.418\n",
      "Train loss: 1.218, Val loss: 1.297\n",
      "Epoch 26 Finished!!!\n"
     ]
    },
    {
     "name": "stderr",
     "output_type": "stream",
     "text": [
      " 52%|█████▏    | 26/50 [13:22<08:22, 20.93s/it]"
     ]
    },
    {
     "name": "stdout",
     "output_type": "stream",
     "text": [
      "Train acc: 0.500, Val acc: 0.433\n",
      "Train loss: 1.252, Val loss: 1.293\n",
      "Epoch 27 Finished!!!\n"
     ]
    },
    {
     "name": "stderr",
     "output_type": "stream",
     "text": [
      " 54%|█████▍    | 27/50 [13:43<07:59, 20.86s/it]"
     ]
    },
    {
     "name": "stdout",
     "output_type": "stream",
     "text": [
      "Train acc: 0.550, Val acc: 0.407\n",
      "Train loss: 1.195, Val loss: 1.305\n",
      "Epoch 28 Finished!!!\n"
     ]
    },
    {
     "name": "stderr",
     "output_type": "stream",
     "text": [
      " 56%|█████▌    | 28/50 [14:04<07:36, 20.76s/it]"
     ]
    },
    {
     "name": "stdout",
     "output_type": "stream",
     "text": [
      "Train acc: 0.570, Val acc: 0.430\n",
      "Train loss: 1.184, Val loss: 1.283\n",
      "Epoch 29 Finished!!!\n"
     ]
    },
    {
     "name": "stderr",
     "output_type": "stream",
     "text": [
      " 58%|█████▊    | 29/50 [14:24<07:13, 20.66s/it]"
     ]
    },
    {
     "name": "stdout",
     "output_type": "stream",
     "text": [
      "Train acc: 0.570, Val acc: 0.456\n",
      "Train loss: 1.185, Val loss: 1.273\n",
      "Epoch 30 Finished!!!\n"
     ]
    },
    {
     "name": "stderr",
     "output_type": "stream",
     "text": [
      " 60%|██████    | 30/50 [14:45<06:52, 20.63s/it]"
     ]
    },
    {
     "name": "stdout",
     "output_type": "stream",
     "text": [
      "Train acc: 0.570, Val acc: 0.442\n",
      "Train loss: 1.205, Val loss: 1.285\n",
      "Epoch 31 Finished!!!\n"
     ]
    },
    {
     "name": "stderr",
     "output_type": "stream",
     "text": [
      " 62%|██████▏   | 31/50 [15:05<06:31, 20.60s/it]"
     ]
    },
    {
     "name": "stdout",
     "output_type": "stream",
     "text": [
      "Train acc: 0.530, Val acc: 0.409\n",
      "Train loss: 1.218, Val loss: 1.300\n",
      "Epoch 32 Finished!!!\n"
     ]
    },
    {
     "name": "stderr",
     "output_type": "stream",
     "text": [
      " 64%|██████▍   | 32/50 [15:26<06:09, 20.55s/it]"
     ]
    },
    {
     "name": "stdout",
     "output_type": "stream",
     "text": [
      "Train acc: 0.560, Val acc: 0.440\n",
      "Train loss: 1.183, Val loss: 1.299\n",
      "Epoch 33 Finished!!!\n"
     ]
    },
    {
     "name": "stderr",
     "output_type": "stream",
     "text": [
      " 66%|██████▌   | 33/50 [15:46<05:49, 20.55s/it]"
     ]
    },
    {
     "name": "stdout",
     "output_type": "stream",
     "text": [
      "Train acc: 0.540, Val acc: 0.421\n",
      "Train loss: 1.216, Val loss: 1.284\n",
      "Epoch 34 Finished!!!\n"
     ]
    },
    {
     "name": "stderr",
     "output_type": "stream",
     "text": [
      " 68%|██████▊   | 34/50 [16:07<05:28, 20.51s/it]"
     ]
    },
    {
     "name": "stdout",
     "output_type": "stream",
     "text": [
      "Train acc: 0.610, Val acc: 0.418\n",
      "Train loss: 1.180, Val loss: 1.295\n",
      "Epoch 35 Finished!!!\n"
     ]
    },
    {
     "name": "stderr",
     "output_type": "stream",
     "text": [
      " 70%|███████   | 35/50 [16:27<05:08, 20.55s/it]"
     ]
    },
    {
     "name": "stdout",
     "output_type": "stream",
     "text": [
      "Train acc: 0.510, Val acc: 0.395\n",
      "Train loss: 1.245, Val loss: 1.324\n",
      "Epoch 36 Finished!!!\n"
     ]
    },
    {
     "name": "stderr",
     "output_type": "stream",
     "text": [
      " 72%|███████▏  | 36/50 [16:48<04:47, 20.54s/it]"
     ]
    },
    {
     "name": "stdout",
     "output_type": "stream",
     "text": [
      "Train acc: 0.630, Val acc: 0.430\n",
      "Train loss: 1.130, Val loss: 1.288\n",
      "Epoch 37 Finished!!!\n"
     ]
    },
    {
     "name": "stderr",
     "output_type": "stream",
     "text": [
      " 74%|███████▍  | 37/50 [17:08<04:26, 20.52s/it]"
     ]
    },
    {
     "name": "stdout",
     "output_type": "stream",
     "text": [
      "Train acc: 0.510, Val acc: 0.435\n",
      "Train loss: 1.231, Val loss: 1.288\n",
      "Epoch 38 Finished!!!\n"
     ]
    },
    {
     "name": "stderr",
     "output_type": "stream",
     "text": [
      " 76%|███████▌  | 38/50 [17:29<04:06, 20.55s/it]"
     ]
    },
    {
     "name": "stdout",
     "output_type": "stream",
     "text": [
      "Train acc: 0.500, Val acc: 0.409\n",
      "Train loss: 1.242, Val loss: 1.313\n",
      "Epoch 39 Finished!!!\n"
     ]
    },
    {
     "name": "stderr",
     "output_type": "stream",
     "text": [
      " 78%|███████▊  | 39/50 [17:49<03:46, 20.55s/it]"
     ]
    },
    {
     "name": "stdout",
     "output_type": "stream",
     "text": [
      "Train acc: 0.590, Val acc: 0.435\n",
      "Train loss: 1.168, Val loss: 1.283\n",
      "Epoch 40 Finished!!!\n"
     ]
    },
    {
     "name": "stderr",
     "output_type": "stream",
     "text": [
      " 80%|████████  | 40/50 [18:10<03:25, 20.57s/it]"
     ]
    },
    {
     "name": "stdout",
     "output_type": "stream",
     "text": [
      "Train acc: 0.630, Val acc: 0.440\n",
      "Train loss: 1.135, Val loss: 1.281\n",
      "Epoch 41 Finished!!!\n"
     ]
    },
    {
     "name": "stderr",
     "output_type": "stream",
     "text": [
      " 82%|████████▏ | 41/50 [18:31<03:05, 20.61s/it]"
     ]
    },
    {
     "name": "stdout",
     "output_type": "stream",
     "text": [
      "Train acc: 0.480, Val acc: 0.449\n",
      "Train loss: 1.220, Val loss: 1.277\n",
      "Epoch 42 Finished!!!\n"
     ]
    },
    {
     "name": "stderr",
     "output_type": "stream",
     "text": [
      " 84%|████████▍ | 42/50 [18:52<02:46, 20.80s/it]"
     ]
    },
    {
     "name": "stdout",
     "output_type": "stream",
     "text": [
      "Train acc: 0.580, Val acc: 0.449\n",
      "Train loss: 1.190, Val loss: 1.276\n",
      "Epoch 43 Finished!!!\n"
     ]
    },
    {
     "name": "stderr",
     "output_type": "stream",
     "text": [
      " 86%|████████▌ | 43/50 [19:13<02:26, 20.95s/it]"
     ]
    },
    {
     "name": "stdout",
     "output_type": "stream",
     "text": [
      "Train acc: 0.530, Val acc: 0.400\n",
      "Train loss: 1.198, Val loss: 1.303\n",
      "Epoch 44 Finished!!!\n"
     ]
    },
    {
     "name": "stderr",
     "output_type": "stream",
     "text": [
      " 88%|████████▊ | 44/50 [19:34<02:06, 21.01s/it]"
     ]
    },
    {
     "name": "stdout",
     "output_type": "stream",
     "text": [
      "Train acc: 0.660, Val acc: 0.433\n",
      "Train loss: 1.118, Val loss: 1.287\n",
      "Epoch 45 Finished!!!\n"
     ]
    },
    {
     "name": "stderr",
     "output_type": "stream",
     "text": [
      " 90%|█████████ | 45/50 [19:55<01:44, 20.96s/it]"
     ]
    },
    {
     "name": "stdout",
     "output_type": "stream",
     "text": [
      "Train acc: 0.600, Val acc: 0.442\n",
      "Train loss: 1.145, Val loss: 1.283\n",
      "Epoch 46 Finished!!!\n"
     ]
    },
    {
     "name": "stderr",
     "output_type": "stream",
     "text": [
      " 92%|█████████▏| 46/50 [20:16<01:23, 20.92s/it]"
     ]
    },
    {
     "name": "stdout",
     "output_type": "stream",
     "text": [
      "Train acc: 0.660, Val acc: 0.418\n",
      "Train loss: 1.116, Val loss: 1.289\n",
      "Epoch 47 Finished!!!\n"
     ]
    },
    {
     "name": "stderr",
     "output_type": "stream",
     "text": [
      " 94%|█████████▍| 47/50 [20:37<01:02, 20.87s/it]"
     ]
    },
    {
     "name": "stdout",
     "output_type": "stream",
     "text": [
      "Train acc: 0.550, Val acc: 0.423\n",
      "Train loss: 1.194, Val loss: 1.290\n",
      "Epoch 48 Finished!!!\n"
     ]
    },
    {
     "name": "stderr",
     "output_type": "stream",
     "text": [
      " 96%|█████████▌| 48/50 [20:57<00:41, 20.82s/it]"
     ]
    },
    {
     "name": "stdout",
     "output_type": "stream",
     "text": [
      "Train acc: 0.620, Val acc: 0.423\n",
      "Train loss: 1.116, Val loss: 1.288\n",
      "Epoch 49 Finished!!!\n"
     ]
    },
    {
     "name": "stderr",
     "output_type": "stream",
     "text": [
      " 98%|█████████▊| 49/50 [21:18<00:20, 20.77s/it]"
     ]
    },
    {
     "name": "stdout",
     "output_type": "stream",
     "text": [
      "Train acc: 0.580, Val acc: 0.421\n",
      "Train loss: 1.150, Val loss: 1.282\n",
      "Epoch 50 Finished!!!\n"
     ]
    },
    {
     "name": "stderr",
     "output_type": "stream",
     "text": [
      "100%|██████████| 50/50 [21:39<00:00, 25.99s/it]"
     ]
    },
    {
     "name": "stdout",
     "output_type": "stream",
     "text": [
      "Train acc: 0.630, Val acc: 0.433\n",
      "Train loss: 1.123, Val loss: 1.287\n",
      "Best val Acc: 0.456265\n"
     ]
    },
    {
     "name": "stderr",
     "output_type": "stream",
     "text": [
      "\n"
     ]
    }
   ],
   "source": [
    "# Training Time!\n",
    "\n",
    "train_history_1, val_history_1 = np.array([]), np.array([])\n",
    "train_loss_hist_1, val_loss_hist_1 = np.array([]), np.array([])\n",
    "\n",
    "with TemporaryDirectory() as tempdir:\n",
    "    best_model_params_path = os.path.join(tempdir, 'best_model_params.pt')\n",
    "\n",
    "    torch.save(model1.state_dict(), best_model_params_path)\n",
    "    best_acc = 0.0\n",
    "    bsz = 100\n",
    "    num_epochs = 50\n",
    "    iteration = 0\n",
    "    total_it = num_epochs*int(x_train.shape[0]/bsz)\n",
    "    for epoch_idx in tqdm(range(num_epochs)):\n",
    "        # Set model to train mode - useful for layers such as BatchNorm or Dropout whose behaviors change between train/eval\n",
    "        model1.train()\n",
    "        train_count = 0\n",
    "        train_correct_count = 0\n",
    "        for i in range(int(x_train.shape[0]/bsz)):\n",
    "            iteration+=1\n",
    "            optimizer.zero_grad() # Zero gradients, since we don't want gradients to accumulate between batches - we apply an update for each batch\n",
    "            train_x, train_y = sample(x_train, y_train, bsz)\n",
    "            logits = model1(train_x) #bszx4x1x4\n",
    "            \n",
    "            logits = nn.functional.softmax(logits, dim=1)\n",
    "            loss = criterion(logits.float(), train_y.float())\n",
    "\n",
    "            loss.backward()\n",
    "            optimizer.step()\n",
    "\n",
    "            with torch.no_grad():\n",
    "                #y_hat = torch.mean(logits, dim = 2)\n",
    "                y_hat = torch.argmax(logits, dim=1)\n",
    "                train_correct_count = torch.sum(y_hat == torch.argmax(train_y, dim=1))\n",
    "                train_count = train_x.size(0)\n",
    "                train_count = float(train_count)\n",
    "            #print(f'(Iteration {iteration}/{total_it})Training Accuracy: ', (train_correct_count/train_count).item(), '. Loss: ', loss.item())\n",
    "        \n",
    "\n",
    "        train_acc = train_correct_count / train_count\n",
    "\n",
    "        model1.eval()\n",
    "        val_count = 0\n",
    "        val_correct_count = 0\n",
    "        with torch.no_grad():\n",
    "            val_x = x_valid\n",
    "            val_y = y_valid\n",
    "            logits = model1(val_x).detach()\n",
    "            logits = nn.functional.softmax(logits)\n",
    "            val_loss = criterion(logits.float(), val_y.float())\n",
    "            with torch.no_grad():\n",
    "                y_hat = torch.argmax(logits, dim=1)\n",
    "                val_correct_count = torch.sum(y_hat == torch.argmax(val_y, dim=1))\n",
    "                val_count = float(val_x.size(0))\n",
    "        val_acc = val_correct_count / y_valid.shape[0]\n",
    "\n",
    "        print(f'Epoch {epoch_idx+1} Finished!!!')\n",
    "        print('Train acc: {:.3f}, Val acc: {:.3f}'.format(train_acc, val_acc))\n",
    "        print('Train loss: {:.3f}, Val loss: {:.3f}'.format(loss, val_loss))\n",
    "\n",
    "        train_history_1 = np.append(train_history_1, train_acc.item())\n",
    "        val_history_1 = np.append(val_history_1, val_acc.item())\n",
    "        train_loss_hist_1 = np.append(train_loss_hist_1, loss.item())\n",
    "        val_loss_hist_1 = np.append(val_loss_hist_1, val_loss.item())\n",
    "\n",
    "        if val_acc > best_acc:\n",
    "            best_acc = val_acc\n",
    "            torch.save(model1.state_dict(), best_model_params_path)\n",
    "    \n",
    "    print(f'Best val Acc: {best_acc:4f}')\n",
    "\n",
    "    # load best model weights\n",
    "    model1.load_state_dict(torch.load(best_model_params_path))"
   ]
  },
  {
   "cell_type": "code",
   "execution_count": 11,
   "metadata": {},
   "outputs": [
    {
     "data": {
      "image/png": "[encoded data removed]",
      "text/plain": [
       "<Figure size 640x480 with 1 Axes>"
      ]
     },
     "metadata": {},
     "output_type": "display_data"
    },
    {
     "data": {
      "image/png": "[encoded data removed]",
      "text/plain": [
       "<Figure size 640x480 with 1 Axes>"
      ]
     },
     "metadata": {},
     "output_type": "display_data"
    }
   ],
   "source": [
    "plt.plot(np.arange(num_epochs),train_history_1,label='Training')\n",
    "plt.plot(np.arange(num_epochs),val_history_1,label='Validation')\n",
    "plt.title('Hybrid ResNet-LSTM model accuracy trajectory')\n",
    "plt.ylabel('Accuracy')\n",
    "plt.xlabel('Epoch')\n",
    "plt.legend()\n",
    "plt.show()\n",
    "\n",
    "plt.plot(np.arange(num_epochs),train_loss_hist_1,'o',label='Training')\n",
    "plt.plot(np.arange(num_epochs),val_loss_hist_1,'o',label='Validation')\n",
    "plt.title('Hybrid ResNet-LSTM model loss trajectory')\n",
    "plt.ylabel('Loss')\n",
    "plt.xlabel('Epoch')\n",
    "plt.legend()\n",
    "plt.show()"
   ]
  },
  {
   "cell_type": "markdown",
   "metadata": {},
   "source": [
    "## Part 2: Training and validating on preprocessed EEG data"
   ]
  },
  {
   "cell_type": "code",
   "execution_count": 15,
   "metadata": {},
   "outputs": [
    {
     "name": "stdout",
     "output_type": "stream",
     "text": [
      "Training and Validation shapes before preprocessing: \n",
      "X train:  (1692, 22, 1000)  Y train:  (1692,)\n",
      "X val:  (423, 22, 1000)  Y val (423,)\n",
      "Shape of X after trimming: (1692, 22, 800)\n",
      "Shape of X after maxpooling: (1692, 22, 400)\n",
      "Shape of X after averaging+noise and concatenating: (3384, 22, 400)\n",
      "Shape of X after subsampling and concatenating: (6768, 22, 400)\n",
      "Shape of Y: (6768,)\n",
      "Shape of X after trimming: (443, 22, 800)\n",
      "Shape of X after maxpooling: (443, 22, 400)\n",
      "Shape of X after trimming: (423, 22, 800)\n",
      "Shape of X after maxpooling: (423, 22, 400)\n",
      "Shape of training set: torch.Size([6768, 22, 400])\n",
      "Shape of validation set: torch.Size([423, 22, 400])\n",
      "Shape of training labels: (6768,)\n",
      "Shape of validation labels: (423,)\n",
      "Shape of training labels after categorical conversion: torch.Size([6768, 4])\n",
      "Shape of validation labels after categorical conversion: torch.Size([423, 4])\n",
      "Shape of test labels after categorical conversion: torch.Size([443, 4])\n",
      "Shape of training set after adding width info: torch.Size([6768, 22, 400, 1])\n",
      "Shape of validation set after adding width info: torch.Size([423, 22, 400, 1])\n",
      "Shape of test set after adding width info: (443, 22, 400, 1)\n",
      "Shape of training set after dimension reshaping: torch.Size([6768, 1, 22, 400])\n",
      "Shape of validation set after dimension reshaping: torch.Size([423, 1, 22, 400])\n",
      "Shape of test set after dimension reshaping: torch.Size([443, 1, 22, 400])\n"
     ]
    }
   ],
   "source": [
    "## Randomly split the train/validation dataset\n",
    "ind_valid = np.random.choice(X_train_valid.shape[0], int(X_train_valid.shape[0]/5), replace=False)\n",
    "ind_train = np.array(list(set(range(X_train_valid.shape[0])).difference(set(ind_valid))))\n",
    "x_valid, y_valid = X_train_valid[ind_valid], y_train_valid[ind_valid]\n",
    "x_train, y_train = X_train_valid[ind_train], y_train_valid[ind_train]\n",
    "print('Training and Validation shapes before preprocessing: ')\n",
    "print('X train: ', x_train.shape, ' Y train: ', y_train.shape)\n",
    "print('X val: ', x_valid.shape, ' Y val', y_valid.shape)\n",
    "\n",
    "# Preprocessing the dataset, may need to reload data at top\n",
    "# pass only training data to train prep, val and test data to test prep\n",
    "\n",
    "x_train,y_train = train_data_prep(x_train,y_train,2,2,True)\n",
    "x_test, x_valid = test_data_prep(x_test), test_data_prep(x_valid) \n",
    "\n",
    "x_train = torch.tensor(x_train).detach().float().to(device)\n",
    "x_valid = torch.tensor(x_valid).detach().float().to(device)\n",
    "print('Shape of training set:',x_train.shape)\n",
    "print('Shape of validation set:',x_valid.shape)\n",
    "print('Shape of training labels:',y_train.shape)\n",
    "print('Shape of validation labels:',y_valid.shape)\n",
    "\n",
    "# Converting the labels to categorical variables for multiclass classification\n",
    "y_train, y_valid, y_test = torch.tensor(y_train).to(device), torch.tensor(y_valid).to(device), torch.tensor(y_test).to(device)\n",
    "y_train = nn.functional.one_hot(y_train.long(), 4)\n",
    "y_valid = nn.functional.one_hot(y_valid.long(), 4)\n",
    "y_test = nn.functional.one_hot(y_test.long(), 4)\n",
    "print('Shape of training labels after categorical conversion:',y_train.shape)\n",
    "print('Shape of validation labels after categorical conversion:',y_valid.shape)\n",
    "print('Shape of test labels after categorical conversion:',y_test.shape)\n",
    "\n",
    "# Adding width of the segment to be 1\n",
    "x_train = x_train.reshape(x_train.shape[0], x_train.shape[1], x_train.shape[2], 1)\n",
    "x_valid = x_valid.reshape(x_valid.shape[0], x_valid.shape[1], x_train.shape[2], 1)\n",
    "x_test = x_test.reshape(x_test.shape[0], x_test.shape[1], x_test.shape[2], 1)\n",
    "print('Shape of training set after adding width info:',x_train.shape)\n",
    "print('Shape of validation set after adding width info:',x_valid.shape)\n",
    "print('Shape of test set after adding width info:',x_test.shape)\n",
    "\n",
    "\n",
    "# Reshaping the training and validation dataset\n",
    "x_train = np.swapaxes(x_train, 1,3)\n",
    "x_train = np.swapaxes(x_train, 2,3)\n",
    "x_valid = np.swapaxes(x_valid, 1,3)\n",
    "x_valid = np.swapaxes(x_valid, 2,3)\n",
    "x_test = np.swapaxes(x_test, 1,3)\n",
    "x_test = np.swapaxes(x_test, 2,3)\n",
    "x_test = torch.tensor(x_test).detach().float().to(device)\n",
    "print('Shape of training set after dimension reshaping:',x_train.shape)\n",
    "print('Shape of validation set after dimension reshaping:',x_valid.shape)\n",
    "print('Shape of test set after dimension reshaping:',x_test.shape)"
   ]
  },
  {
   "cell_type": "markdown",
   "metadata": {},
   "source": [
    "Build the model"
   ]
  },
  {
   "cell_type": "code",
   "execution_count": 17,
   "metadata": {},
   "outputs": [
    {
     "name": "stderr",
     "output_type": "stream",
     "text": [
      "c:\\Users\\awong\\anaconda3\\envs\\c147proj\\Lib\\site-packages\\torch\\nn\\modules\\rnn.py:83: UserWarning: dropout option adds dropout after all but last recurrent layer, so non-zero dropout expects num_layers greater than 1, but got dropout=0.6 and num_layers=1\n",
      "  warnings.warn(\"dropout option adds dropout after all but last \"\n"
     ]
    },
    {
     "name": "stdout",
     "output_type": "stream",
     "text": [
      "ResNetLSTM(\n",
      "  (conv1): Conv2d(1, 48, kernel_size=(1, 3), stride=(1, 1), padding=same, bias=False)\n",
      "  (bn1): BatchNorm2d(48, eps=1e-05, momentum=0.1, affine=True, track_running_stats=True)\n",
      "  (relu): ReLU(inplace=True)\n",
      "  (conv2): Conv2d(48, 48, kernel_size=(22, 1), stride=(1, 1), bias=False)\n",
      "  (bn2): BatchNorm2d(48, eps=1e-05, momentum=0.1, affine=True, track_running_stats=True)\n",
      "  (elu): ELU(alpha=1.0, inplace=True)\n",
      "  (res1): BasicBlock(\n",
      "    (conv1): Conv2d(48, 48, kernel_size=(1, 3), stride=(1, 1), padding=same, bias=False)\n",
      "    (bn1): BatchNorm2d(48, eps=1e-05, momentum=0.1, affine=True, track_running_stats=True)\n",
      "    (dropout1): Dropout2d(p=0.6, inplace=False)\n",
      "    (elu): ELU(alpha=1.0, inplace=True)\n",
      "    (conv2): Conv2d(48, 48, kernel_size=(1, 3), stride=(1, 1), padding=same, bias=False)\n",
      "    (bn2): BatchNorm2d(48, eps=1e-05, momentum=0.1, affine=True, track_running_stats=True)\n",
      "    (dropout2): Dropout2d(p=0.6, inplace=False)\n",
      "    (shortcut): Identity()\n",
      "  )\n",
      "  (res2): BasicBlock(\n",
      "    (conv1): Conv2d(48, 48, kernel_size=(1, 3), stride=(1, 1), padding=same, bias=False)\n",
      "    (bn1): BatchNorm2d(48, eps=1e-05, momentum=0.1, affine=True, track_running_stats=True)\n",
      "    (dropout1): Dropout2d(p=0.6, inplace=False)\n",
      "    (elu): ELU(alpha=1.0, inplace=True)\n",
      "    (conv2): Conv2d(48, 48, kernel_size=(1, 3), stride=(1, 1), padding=same, bias=False)\n",
      "    (bn2): BatchNorm2d(48, eps=1e-05, momentum=0.1, affine=True, track_running_stats=True)\n",
      "    (dropout2): Dropout2d(p=0.6, inplace=False)\n",
      "    (shortcut): Identity()\n",
      "  )\n",
      "  (res3): BasicBlock(\n",
      "    (conv1): Conv2d(48, 96, kernel_size=(1, 3), stride=(1, 2), padding=(0, 1), bias=False)\n",
      "    (bn1): BatchNorm2d(96, eps=1e-05, momentum=0.1, affine=True, track_running_stats=True)\n",
      "    (dropout1): Dropout2d(p=0.6, inplace=False)\n",
      "    (elu): ELU(alpha=1.0, inplace=True)\n",
      "    (conv2): Conv2d(96, 96, kernel_size=(1, 3), stride=(1, 1), padding=same, bias=False)\n",
      "    (bn2): BatchNorm2d(96, eps=1e-05, momentum=0.1, affine=True, track_running_stats=True)\n",
      "    (dropout2): Dropout2d(p=0.6, inplace=False)\n",
      "    (shortcut): Sequential(\n",
      "      (0): Conv2d(48, 96, kernel_size=(1, 1), stride=(2, 2), bias=False)\n",
      "      (1): BatchNorm2d(96, eps=1e-05, momentum=0.1, affine=True, track_running_stats=True)\n",
      "    )\n",
      "  )\n",
      "  (avgpool): AvgPool2d(kernel_size=(1, 10), stride=1, padding=0)\n",
      "  (conv3): Conv2d(96, 4, kernel_size=(1, 1), stride=(1, 1), bias=False)\n",
      "  (fc1): Linear(in_features=764, out_features=10, bias=True)\n",
      "  (lstm): LSTM(10, 10, batch_first=True, dropout=0.6)\n",
      "  (fc2): Linear(in_features=10, out_features=4, bias=True)\n",
      ")\n",
      "134,670 total parameters.\n",
      "134,670 training parameters.\n"
     ]
    }
   ],
   "source": [
    "model2 = ResNetLSTM(img_channels=1, block=BasicBlock, num_classes=4, time_dim=int(x_train.size(3)), dropout=0.6).to(device)\n",
    "print(model2)\n",
    "total_params = sum(p.numel() for p in model2.parameters())\n",
    "print(f\"{total_params:,} total parameters.\")\n",
    "total_trainable_params = sum(p.numel() for p in model2.parameters() if p.requires_grad)\n",
    "print(f\"{total_trainable_params:,} training parameters.\")"
   ]
  },
  {
   "cell_type": "code",
   "execution_count": 18,
   "metadata": {},
   "outputs": [],
   "source": [
    "# Choose Criterion and Optimizer\n",
    "criterion = nn.CrossEntropyLoss()\n",
    "optimizer = torch.optim.Adam(model2.parameters(), lr=0.001, weight_decay=1e-4)"
   ]
  },
  {
   "cell_type": "code",
   "execution_count": 19,
   "metadata": {},
   "outputs": [
    {
     "name": "stderr",
     "output_type": "stream",
     "text": [
      "  0%|          | 0/50 [00:00<?, ?it/s]C:\\Users\\awong\\AppData\\Local\\Temp\\ipykernel_26776\\2221464829.py:48: UserWarning: Implicit dimension choice for softmax has been deprecated. Change the call to include dim=X as an argument.\n",
      "  logits = nn.functional.softmax(logits)\n",
      "  2%|▏         | 1/50 [00:30<24:43, 30.27s/it]"
     ]
    },
    {
     "name": "stdout",
     "output_type": "stream",
     "text": [
      "Epoch 1 Finished!!!\n",
      "Train acc: 0.300, Val acc: 0.331\n",
      "Train loss: 1.379, Val loss: 1.368\n",
      "Epoch 2 Finished!!!\n"
     ]
    },
    {
     "name": "stderr",
     "output_type": "stream",
     "text": [
      "  4%|▍         | 2/50 [00:57<22:46, 28.47s/it]"
     ]
    },
    {
     "name": "stdout",
     "output_type": "stream",
     "text": [
      "Train acc: 0.370, Val acc: 0.397\n",
      "Train loss: 1.330, Val loss: 1.322\n",
      "Epoch 3 Finished!!!\n"
     ]
    },
    {
     "name": "stderr",
     "output_type": "stream",
     "text": [
      "  6%|▌         | 3/50 [01:25<22:09, 28.29s/it]"
     ]
    },
    {
     "name": "stdout",
     "output_type": "stream",
     "text": [
      "Train acc: 0.440, Val acc: 0.402\n",
      "Train loss: 1.310, Val loss: 1.314\n",
      "Epoch 4 Finished!!!\n"
     ]
    },
    {
     "name": "stderr",
     "output_type": "stream",
     "text": [
      "  8%|▊         | 4/50 [01:54<21:44, 28.36s/it]"
     ]
    },
    {
     "name": "stdout",
     "output_type": "stream",
     "text": [
      "Train acc: 0.540, Val acc: 0.459\n",
      "Train loss: 1.272, Val loss: 1.287\n",
      "Epoch 5 Finished!!!\n"
     ]
    },
    {
     "name": "stderr",
     "output_type": "stream",
     "text": [
      " 10%|█         | 5/50 [02:22<21:16, 28.36s/it]"
     ]
    },
    {
     "name": "stdout",
     "output_type": "stream",
     "text": [
      "Train acc: 0.380, Val acc: 0.461\n",
      "Train loss: 1.314, Val loss: 1.275\n",
      "Epoch 6 Finished!!!\n"
     ]
    },
    {
     "name": "stderr",
     "output_type": "stream",
     "text": [
      " 12%|█▏        | 6/50 [02:50<20:49, 28.40s/it]"
     ]
    },
    {
     "name": "stdout",
     "output_type": "stream",
     "text": [
      "Train acc: 0.540, Val acc: 0.442\n",
      "Train loss: 1.245, Val loss: 1.278\n",
      "Epoch 7 Finished!!!\n"
     ]
    },
    {
     "name": "stderr",
     "output_type": "stream",
     "text": [
      " 14%|█▍        | 7/50 [03:19<20:27, 28.54s/it]"
     ]
    },
    {
     "name": "stdout",
     "output_type": "stream",
     "text": [
      "Train acc: 0.510, Val acc: 0.478\n",
      "Train loss: 1.231, Val loss: 1.261\n",
      "Epoch 8 Finished!!!\n"
     ]
    },
    {
     "name": "stderr",
     "output_type": "stream",
     "text": [
      " 16%|█▌        | 8/50 [03:48<20:02, 28.62s/it]"
     ]
    },
    {
     "name": "stdout",
     "output_type": "stream",
     "text": [
      "Train acc: 0.510, Val acc: 0.470\n",
      "Train loss: 1.234, Val loss: 1.258\n",
      "Epoch 9 Finished!!!\n"
     ]
    },
    {
     "name": "stderr",
     "output_type": "stream",
     "text": [
      " 18%|█▊        | 9/50 [04:17<19:37, 28.73s/it]"
     ]
    },
    {
     "name": "stdout",
     "output_type": "stream",
     "text": [
      "Train acc: 0.600, Val acc: 0.480\n",
      "Train loss: 1.180, Val loss: 1.250\n",
      "Epoch 10 Finished!!!\n"
     ]
    },
    {
     "name": "stderr",
     "output_type": "stream",
     "text": [
      " 20%|██        | 10/50 [04:46<19:13, 28.83s/it]"
     ]
    },
    {
     "name": "stdout",
     "output_type": "stream",
     "text": [
      "Train acc: 0.510, Val acc: 0.468\n",
      "Train loss: 1.234, Val loss: 1.259\n",
      "Epoch 11 Finished!!!\n"
     ]
    },
    {
     "name": "stderr",
     "output_type": "stream",
     "text": [
      " 22%|██▏       | 11/50 [05:15<18:46, 28.90s/it]"
     ]
    },
    {
     "name": "stdout",
     "output_type": "stream",
     "text": [
      "Train acc: 0.560, Val acc: 0.494\n",
      "Train loss: 1.182, Val loss: 1.244\n",
      "Epoch 12 Finished!!!\n"
     ]
    },
    {
     "name": "stderr",
     "output_type": "stream",
     "text": [
      " 24%|██▍       | 12/50 [05:44<18:15, 28.84s/it]"
     ]
    },
    {
     "name": "stdout",
     "output_type": "stream",
     "text": [
      "Train acc: 0.560, Val acc: 0.489\n",
      "Train loss: 1.207, Val loss: 1.238\n",
      "Epoch 13 Finished!!!\n"
     ]
    },
    {
     "name": "stderr",
     "output_type": "stream",
     "text": [
      " 26%|██▌       | 13/50 [06:12<17:44, 28.78s/it]"
     ]
    },
    {
     "name": "stdout",
     "output_type": "stream",
     "text": [
      "Train acc: 0.620, Val acc: 0.463\n",
      "Train loss: 1.142, Val loss: 1.263\n",
      "Epoch 14 Finished!!!\n"
     ]
    },
    {
     "name": "stderr",
     "output_type": "stream",
     "text": [
      " 28%|██▊       | 14/50 [06:41<17:16, 28.80s/it]"
     ]
    },
    {
     "name": "stdout",
     "output_type": "stream",
     "text": [
      "Train acc: 0.590, Val acc: 0.485\n",
      "Train loss: 1.171, Val loss: 1.245\n",
      "Epoch 15 Finished!!!\n"
     ]
    },
    {
     "name": "stderr",
     "output_type": "stream",
     "text": [
      " 30%|███       | 15/50 [07:10<16:47, 28.78s/it]"
     ]
    },
    {
     "name": "stdout",
     "output_type": "stream",
     "text": [
      "Train acc: 0.580, Val acc: 0.489\n",
      "Train loss: 1.167, Val loss: 1.236\n",
      "Epoch 16 Finished!!!\n"
     ]
    },
    {
     "name": "stderr",
     "output_type": "stream",
     "text": [
      " 32%|███▏      | 16/50 [07:39<16:16, 28.71s/it]"
     ]
    },
    {
     "name": "stdout",
     "output_type": "stream",
     "text": [
      "Train acc: 0.540, Val acc: 0.489\n",
      "Train loss: 1.196, Val loss: 1.232\n",
      "Epoch 17 Finished!!!\n"
     ]
    },
    {
     "name": "stderr",
     "output_type": "stream",
     "text": [
      " 34%|███▍      | 17/50 [08:02<14:59, 27.26s/it]"
     ]
    },
    {
     "name": "stdout",
     "output_type": "stream",
     "text": [
      "Train acc: 0.740, Val acc: 0.478\n",
      "Train loss: 1.073, Val loss: 1.249\n",
      "Epoch 18 Finished!!!\n"
     ]
    },
    {
     "name": "stderr",
     "output_type": "stream",
     "text": [
      " 36%|███▌      | 18/50 [08:26<13:52, 26.01s/it]"
     ]
    },
    {
     "name": "stdout",
     "output_type": "stream",
     "text": [
      "Train acc: 0.640, Val acc: 0.480\n",
      "Train loss: 1.113, Val loss: 1.250\n",
      "Epoch 19 Finished!!!\n"
     ]
    },
    {
     "name": "stderr",
     "output_type": "stream",
     "text": [
      " 38%|███▊      | 19/50 [08:49<12:59, 25.13s/it]"
     ]
    },
    {
     "name": "stdout",
     "output_type": "stream",
     "text": [
      "Train acc: 0.600, Val acc: 0.482\n",
      "Train loss: 1.171, Val loss: 1.231\n",
      "Epoch 20 Finished!!!\n"
     ]
    },
    {
     "name": "stderr",
     "output_type": "stream",
     "text": [
      " 40%|████      | 20/50 [09:12<12:15, 24.52s/it]"
     ]
    },
    {
     "name": "stdout",
     "output_type": "stream",
     "text": [
      "Train acc: 0.560, Val acc: 0.489\n",
      "Train loss: 1.168, Val loss: 1.221\n",
      "Epoch 21 Finished!!!\n"
     ]
    },
    {
     "name": "stderr",
     "output_type": "stream",
     "text": [
      " 42%|████▏     | 21/50 [09:35<11:39, 24.11s/it]"
     ]
    },
    {
     "name": "stdout",
     "output_type": "stream",
     "text": [
      "Train acc: 0.620, Val acc: 0.522\n",
      "Train loss: 1.144, Val loss: 1.219\n",
      "Epoch 22 Finished!!!\n"
     ]
    },
    {
     "name": "stderr",
     "output_type": "stream",
     "text": [
      " 44%|████▍     | 22/50 [09:58<11:07, 23.84s/it]"
     ]
    },
    {
     "name": "stdout",
     "output_type": "stream",
     "text": [
      "Train acc: 0.600, Val acc: 0.534\n",
      "Train loss: 1.146, Val loss: 1.203\n",
      "Epoch 23 Finished!!!\n"
     ]
    },
    {
     "name": "stderr",
     "output_type": "stream",
     "text": [
      " 46%|████▌     | 23/50 [10:21<10:38, 23.64s/it]"
     ]
    },
    {
     "name": "stdout",
     "output_type": "stream",
     "text": [
      "Train acc: 0.620, Val acc: 0.534\n",
      "Train loss: 1.134, Val loss: 1.208\n",
      "Epoch 24 Finished!!!\n"
     ]
    },
    {
     "name": "stderr",
     "output_type": "stream",
     "text": [
      " 48%|████▊     | 24/50 [10:44<10:11, 23.51s/it]"
     ]
    },
    {
     "name": "stdout",
     "output_type": "stream",
     "text": [
      "Train acc: 0.670, Val acc: 0.506\n",
      "Train loss: 1.094, Val loss: 1.234\n",
      "Epoch 25 Finished!!!\n"
     ]
    },
    {
     "name": "stderr",
     "output_type": "stream",
     "text": [
      " 50%|█████     | 25/50 [11:08<09:45, 23.40s/it]"
     ]
    },
    {
     "name": "stdout",
     "output_type": "stream",
     "text": [
      "Train acc: 0.730, Val acc: 0.527\n",
      "Train loss: 1.031, Val loss: 1.212\n",
      "Epoch 26 Finished!!!\n"
     ]
    },
    {
     "name": "stderr",
     "output_type": "stream",
     "text": [
      " 52%|█████▏    | 26/50 [11:31<09:19, 23.33s/it]"
     ]
    },
    {
     "name": "stdout",
     "output_type": "stream",
     "text": [
      "Train acc: 0.650, Val acc: 0.520\n",
      "Train loss: 1.098, Val loss: 1.222\n",
      "Epoch 27 Finished!!!\n"
     ]
    },
    {
     "name": "stderr",
     "output_type": "stream",
     "text": [
      " 54%|█████▍    | 27/50 [11:54<08:55, 23.29s/it]"
     ]
    },
    {
     "name": "stdout",
     "output_type": "stream",
     "text": [
      "Train acc: 0.600, Val acc: 0.485\n",
      "Train loss: 1.130, Val loss: 1.234\n",
      "Epoch 28 Finished!!!\n"
     ]
    },
    {
     "name": "stderr",
     "output_type": "stream",
     "text": [
      " 56%|█████▌    | 28/50 [12:17<08:31, 23.26s/it]"
     ]
    },
    {
     "name": "stdout",
     "output_type": "stream",
     "text": [
      "Train acc: 0.700, Val acc: 0.515\n",
      "Train loss: 1.048, Val loss: 1.214\n",
      "Epoch 29 Finished!!!\n"
     ]
    },
    {
     "name": "stderr",
     "output_type": "stream",
     "text": [
      " 58%|█████▊    | 29/50 [12:40<08:07, 23.24s/it]"
     ]
    },
    {
     "name": "stdout",
     "output_type": "stream",
     "text": [
      "Train acc: 0.680, Val acc: 0.506\n",
      "Train loss: 1.073, Val loss: 1.224\n",
      "Epoch 30 Finished!!!\n"
     ]
    },
    {
     "name": "stderr",
     "output_type": "stream",
     "text": [
      " 60%|██████    | 30/50 [13:04<07:44, 23.23s/it]"
     ]
    },
    {
     "name": "stdout",
     "output_type": "stream",
     "text": [
      "Train acc: 0.690, Val acc: 0.501\n",
      "Train loss: 1.065, Val loss: 1.226\n",
      "Epoch 31 Finished!!!\n"
     ]
    },
    {
     "name": "stderr",
     "output_type": "stream",
     "text": [
      " 62%|██████▏   | 31/50 [13:27<07:21, 23.22s/it]"
     ]
    },
    {
     "name": "stdout",
     "output_type": "stream",
     "text": [
      "Train acc: 0.680, Val acc: 0.489\n",
      "Train loss: 1.070, Val loss: 1.233\n",
      "Epoch 32 Finished!!!\n"
     ]
    },
    {
     "name": "stderr",
     "output_type": "stream",
     "text": [
      " 64%|██████▍   | 32/50 [13:50<06:57, 23.21s/it]"
     ]
    },
    {
     "name": "stdout",
     "output_type": "stream",
     "text": [
      "Train acc: 0.660, Val acc: 0.527\n",
      "Train loss: 1.083, Val loss: 1.213\n",
      "Epoch 33 Finished!!!\n"
     ]
    },
    {
     "name": "stderr",
     "output_type": "stream",
     "text": [
      " 66%|██████▌   | 33/50 [14:13<06:34, 23.20s/it]"
     ]
    },
    {
     "name": "stdout",
     "output_type": "stream",
     "text": [
      "Train acc: 0.660, Val acc: 0.518\n",
      "Train loss: 1.073, Val loss: 1.215\n",
      "Epoch 34 Finished!!!\n"
     ]
    },
    {
     "name": "stderr",
     "output_type": "stream",
     "text": [
      " 68%|██████▊   | 34/50 [14:37<06:12, 23.29s/it]"
     ]
    },
    {
     "name": "stdout",
     "output_type": "stream",
     "text": [
      "Train acc: 0.710, Val acc: 0.537\n",
      "Train loss: 1.044, Val loss: 1.201\n",
      "Epoch 35 Finished!!!\n"
     ]
    },
    {
     "name": "stderr",
     "output_type": "stream",
     "text": [
      " 70%|███████   | 35/50 [15:00<05:50, 23.34s/it]"
     ]
    },
    {
     "name": "stdout",
     "output_type": "stream",
     "text": [
      "Train acc: 0.800, Val acc: 0.525\n",
      "Train loss: 0.964, Val loss: 1.208\n",
      "Epoch 36 Finished!!!\n"
     ]
    },
    {
     "name": "stderr",
     "output_type": "stream",
     "text": [
      " 72%|███████▏  | 36/50 [15:23<05:26, 23.35s/it]"
     ]
    },
    {
     "name": "stdout",
     "output_type": "stream",
     "text": [
      "Train acc: 0.730, Val acc: 0.515\n",
      "Train loss: 1.017, Val loss: 1.209\n",
      "Epoch 37 Finished!!!\n"
     ]
    },
    {
     "name": "stderr",
     "output_type": "stream",
     "text": [
      " 74%|███████▍  | 37/50 [15:47<05:03, 23.36s/it]"
     ]
    },
    {
     "name": "stdout",
     "output_type": "stream",
     "text": [
      "Train acc: 0.710, Val acc: 0.508\n",
      "Train loss: 1.047, Val loss: 1.213\n",
      "Epoch 38 Finished!!!\n"
     ]
    },
    {
     "name": "stderr",
     "output_type": "stream",
     "text": [
      " 76%|███████▌  | 38/50 [16:10<04:40, 23.35s/it]"
     ]
    },
    {
     "name": "stdout",
     "output_type": "stream",
     "text": [
      "Train acc: 0.690, Val acc: 0.548\n",
      "Train loss: 1.047, Val loss: 1.190\n",
      "Epoch 39 Finished!!!\n"
     ]
    },
    {
     "name": "stderr",
     "output_type": "stream",
     "text": [
      " 78%|███████▊  | 39/50 [16:33<04:16, 23.32s/it]"
     ]
    },
    {
     "name": "stdout",
     "output_type": "stream",
     "text": [
      "Train acc: 0.650, Val acc: 0.525\n",
      "Train loss: 1.094, Val loss: 1.206\n",
      "Epoch 40 Finished!!!\n"
     ]
    },
    {
     "name": "stderr",
     "output_type": "stream",
     "text": [
      " 80%|████████  | 40/50 [16:57<03:53, 23.33s/it]"
     ]
    },
    {
     "name": "stdout",
     "output_type": "stream",
     "text": [
      "Train acc: 0.780, Val acc: 0.518\n",
      "Train loss: 0.997, Val loss: 1.212\n",
      "Epoch 41 Finished!!!\n"
     ]
    },
    {
     "name": "stderr",
     "output_type": "stream",
     "text": [
      " 82%|████████▏ | 41/50 [17:20<03:30, 23.35s/it]"
     ]
    },
    {
     "name": "stdout",
     "output_type": "stream",
     "text": [
      "Train acc: 0.810, Val acc: 0.541\n",
      "Train loss: 0.960, Val loss: 1.191\n",
      "Epoch 42 Finished!!!\n"
     ]
    },
    {
     "name": "stderr",
     "output_type": "stream",
     "text": [
      " 84%|████████▍ | 42/50 [17:43<03:06, 23.35s/it]"
     ]
    },
    {
     "name": "stdout",
     "output_type": "stream",
     "text": [
      "Train acc: 0.790, Val acc: 0.537\n",
      "Train loss: 0.979, Val loss: 1.192\n",
      "Epoch 43 Finished!!!\n"
     ]
    },
    {
     "name": "stderr",
     "output_type": "stream",
     "text": [
      " 86%|████████▌ | 43/50 [18:07<02:43, 23.38s/it]"
     ]
    },
    {
     "name": "stdout",
     "output_type": "stream",
     "text": [
      "Train acc: 0.830, Val acc: 0.548\n",
      "Train loss: 0.935, Val loss: 1.188\n",
      "Epoch 44 Finished!!!\n"
     ]
    },
    {
     "name": "stderr",
     "output_type": "stream",
     "text": [
      " 88%|████████▊ | 44/50 [18:30<02:20, 23.37s/it]"
     ]
    },
    {
     "name": "stdout",
     "output_type": "stream",
     "text": [
      "Train acc: 0.770, Val acc: 0.518\n",
      "Train loss: 0.979, Val loss: 1.201\n",
      "Epoch 45 Finished!!!\n"
     ]
    },
    {
     "name": "stderr",
     "output_type": "stream",
     "text": [
      " 90%|█████████ | 45/50 [18:54<01:56, 23.35s/it]"
     ]
    },
    {
     "name": "stdout",
     "output_type": "stream",
     "text": [
      "Train acc: 0.780, Val acc: 0.553\n",
      "Train loss: 0.983, Val loss: 1.189\n",
      "Epoch 46 Finished!!!\n"
     ]
    },
    {
     "name": "stderr",
     "output_type": "stream",
     "text": [
      " 92%|█████████▏| 46/50 [19:17<01:33, 23.33s/it]"
     ]
    },
    {
     "name": "stdout",
     "output_type": "stream",
     "text": [
      "Train acc: 0.830, Val acc: 0.560\n",
      "Train loss: 0.925, Val loss: 1.185\n",
      "Epoch 47 Finished!!!\n"
     ]
    },
    {
     "name": "stderr",
     "output_type": "stream",
     "text": [
      " 94%|█████████▍| 47/50 [19:40<01:09, 23.32s/it]"
     ]
    },
    {
     "name": "stdout",
     "output_type": "stream",
     "text": [
      "Train acc: 0.830, Val acc: 0.548\n",
      "Train loss: 0.945, Val loss: 1.192\n",
      "Epoch 48 Finished!!!\n"
     ]
    },
    {
     "name": "stderr",
     "output_type": "stream",
     "text": [
      " 96%|█████████▌| 48/50 [20:03<00:46, 23.32s/it]"
     ]
    },
    {
     "name": "stdout",
     "output_type": "stream",
     "text": [
      "Train acc: 0.760, Val acc: 0.553\n",
      "Train loss: 0.990, Val loss: 1.180\n",
      "Epoch 49 Finished!!!\n"
     ]
    },
    {
     "name": "stderr",
     "output_type": "stream",
     "text": [
      " 98%|█████████▊| 49/50 [20:27<00:23, 23.34s/it]"
     ]
    },
    {
     "name": "stdout",
     "output_type": "stream",
     "text": [
      "Train acc: 0.770, Val acc: 0.556\n",
      "Train loss: 0.971, Val loss: 1.190\n",
      "Epoch 50 Finished!!!\n"
     ]
    },
    {
     "name": "stderr",
     "output_type": "stream",
     "text": [
      "100%|██████████| 50/50 [20:50<00:00, 25.02s/it]"
     ]
    },
    {
     "name": "stdout",
     "output_type": "stream",
     "text": [
      "Train acc: 0.800, Val acc: 0.532\n",
      "Train loss: 0.976, Val loss: 1.193\n",
      "Best val Acc: 0.560284\n"
     ]
    },
    {
     "name": "stderr",
     "output_type": "stream",
     "text": [
      "\n"
     ]
    }
   ],
   "source": [
    "train_history_2, val_history_2 = np.array([]), np.array([])\n",
    "train_loss_hist_2, val_loss_hist_2 = np.array([]), np.array([])\n",
    "\n",
    "with TemporaryDirectory() as tempdir:\n",
    "    best_model_params_path = os.path.join(tempdir, 'best_model_params.pt')\n",
    "\n",
    "    torch.save(model2.state_dict(), best_model_params_path)\n",
    "    best_acc = 0.0\n",
    "    bsz = 100\n",
    "    num_epochs = 50\n",
    "    iteration = 0\n",
    "    total_it = num_epochs*int(x_train.shape[0]/bsz)\n",
    "    for epoch_idx in tqdm(range(num_epochs)):\n",
    "        # Set model to train mode - useful for layers such as BatchNorm or Dropout whose behaviors change between train/eval\n",
    "        model2.train()\n",
    "        train_count = 0\n",
    "        train_correct_count = 0\n",
    "        for i in range(int(x_train.shape[0]/bsz)):\n",
    "            iteration+=1\n",
    "            optimizer.zero_grad() # Zero gradients, since we don't want gradients to accumulate between batches - we apply an update for each batch\n",
    "            train_x, train_y = sample(x_train, y_train, bsz)\n",
    "            logits = model2(train_x) #bszx4x1x4\n",
    "            \n",
    "            logits = nn.functional.softmax(logits, dim=1)\n",
    "            loss = criterion(logits.float(), train_y.float())\n",
    "\n",
    "            loss.backward()\n",
    "            optimizer.step()\n",
    "\n",
    "            with torch.no_grad():\n",
    "                #y_hat = torch.mean(logits, dim = 2)\n",
    "                y_hat = torch.argmax(logits, dim=1)\n",
    "                train_correct_count = torch.sum(y_hat == torch.argmax(train_y, dim=1))\n",
    "                train_count = train_x.size(0)\n",
    "                train_count = float(train_count)\n",
    "            #print(f'(Iteration {iteration}/{total_it})Training Accuracy: ', (train_correct_count/train_count).item(), '. Loss: ', loss.item())\n",
    "        \n",
    "\n",
    "        train_acc = train_correct_count / train_count\n",
    "\n",
    "        model2.eval()\n",
    "        val_count = 0\n",
    "        val_correct_count = 0\n",
    "        with torch.no_grad():\n",
    "            val_x = x_valid\n",
    "            val_y = y_valid\n",
    "            logits = model2(val_x).detach()\n",
    "            logits = nn.functional.softmax(logits)\n",
    "            val_loss = criterion(logits.float(), val_y.float())\n",
    "            with torch.no_grad():\n",
    "                y_hat = torch.argmax(logits, dim=1)\n",
    "                val_correct_count = torch.sum(y_hat == torch.argmax(val_y, dim=1))\n",
    "                val_count = float(val_x.size(0))\n",
    "        val_acc = val_correct_count / y_valid.shape[0]\n",
    "\n",
    "        print(f'Epoch {epoch_idx+1} Finished!!!')\n",
    "        print('Train acc: {:.3f}, Val acc: {:.3f}'.format(train_acc, val_acc))\n",
    "        print('Train loss: {:.3f}, Val loss: {:.3f}'.format(loss, val_loss))\n",
    "\n",
    "        train_history_2 = np.append(train_history_2, train_acc.item())\n",
    "        val_history_2 = np.append(val_history_2, val_acc.item())\n",
    "        train_loss_hist_2 = np.append(train_loss_hist_2, loss.item())\n",
    "        val_loss_hist_2 = np.append(val_loss_hist_2, val_loss.item())\n",
    "\n",
    "        if val_acc > best_acc:\n",
    "            best_acc = val_acc\n",
    "            torch.save(model2.state_dict(), best_model_params_path)\n",
    "    \n",
    "    print(f'Best val Acc: {best_acc:4f}')\n",
    "\n",
    "    # load best model weights\n",
    "    model2.load_state_dict(torch.load(best_model_params_path))"
   ]
  },
  {
   "cell_type": "code",
   "execution_count": 20,
   "metadata": {},
   "outputs": [
    {
     "data": {
      "image/png": "[encoded data removed]",
      "text/plain": [
       "<Figure size 640x480 with 1 Axes>"
      ]
     },
     "metadata": {},
     "output_type": "display_data"
    },
    {
     "data": {
      "image/png": "[encoded data removed]",
      "text/plain": [
       "<Figure size 640x480 with 1 Axes>"
      ]
     },
     "metadata": {},
     "output_type": "display_data"
    }
   ],
   "source": [
    "plt.plot(np.arange(num_epochs),train_history_2,label='Training')\n",
    "plt.plot(np.arange(num_epochs),val_history_2,label='Validation')\n",
    "plt.title('Hybrid ResNet-LSTM model accuracy trajectory')\n",
    "plt.ylabel('Accuracy')\n",
    "plt.xlabel('Epoch')\n",
    "plt.legend()\n",
    "plt.show()\n",
    "\n",
    "plt.plot(np.arange(num_epochs),train_loss_hist_2,'o',label='Training')\n",
    "plt.plot(np.arange(num_epochs),val_loss_hist_2,'o',label='Validation')\n",
    "plt.title('Hybrid ResNet-LSTM model loss trajectory')\n",
    "plt.ylabel('Loss')\n",
    "plt.xlabel('Epoch')\n",
    "plt.legend()\n",
    "plt.show()"
   ]
  },
  {
   "cell_type": "code",
   "execution_count": null,
   "metadata": {},
   "outputs": [],
   "source": []
  }
 ],
 "metadata": {
  "kernelspec": {
   "display_name": "c147proj",
   "language": "python",
   "name": "python3"
  },
  "language_info": {
   "codemirror_mode": {
    "name": "ipython",
    "version": 3
   },
   "file_extension": ".py",
   "mimetype": "text/x-python",
   "name": "python",
   "nbconvert_exporter": "python",
   "pygments_lexer": "ipython3",
   "version": "3.12.2"
  }
 },
 "nbformat": 4,
 "nbformat_minor": 2
}
