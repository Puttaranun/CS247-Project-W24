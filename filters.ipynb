{
 "cells": [
  {
   "cell_type": "markdown",
   "metadata": {},
   "source": [
    "## Low Pass and High Pass Filtering Code\n",
    "\n",
    "We are going to use signal processing principles to low pass filter and high pass filter our EEG data. \n",
    "\n",
    "The principle we will use is as follows: a convolution of two functions in the time domain is a multiplication in the frequency domain. To that end, we will convolve a low-pass filter (the most basic example being a rect function) with the EEG channels. That is, we will convolve a 1xD kernel of values 1/D over each EEG channel across the 1000 time steps. We will do the same with a high-pass filter.\n",
    "\n",
    "\n",
    "*Note: We will pad the dimensions of X such that the output is the same size as the input, which means these will not be true convolutions.  "
   ]
  },
  {
   "cell_type": "code",
   "execution_count": 2,
   "metadata": {},
   "outputs": [
    {
     "name": "stdout",
     "output_type": "stream",
     "text": [
      "Using cuda\n"
     ]
    }
   ],
   "source": [
    "import torch\n",
    "import torch.nn as nn\n",
    "import torch.optim as optim\n",
    "from torch.optim import lr_scheduler\n",
    "import torch.backends.cudnn as cudnn\n",
    "import numpy as np\n",
    "import torchvision\n",
    "from torchvision import datasets, models, transforms\n",
    "from torch import Tensor\n",
    "from typing import Type\n",
    "import matplotlib.pyplot as plt\n",
    "import time\n",
    "import os\n",
    "from PIL import Image\n",
    "from tempfile import TemporaryDirectory\n",
    "import random\n",
    "\n",
    "cudnn.benchmark = True\n",
    "plt.ion()   # interactive mode\n",
    "\n",
    "if torch.cuda.is_available():\n",
    "  device = torch.device('cuda')\n",
    "elif torch.backends.mps.is_available():\n",
    "  device = torch.device('mps')\n",
    "else:\n",
    "  device = torch.device('cpu')\n",
    "\n",
    "print(\"Using\", device)"
   ]
  },
  {
   "cell_type": "markdown",
   "metadata": {},
   "source": [
    "I am assuming the dimensions of the input are Examples x Channels(1) x Electrodes(22) x Time\n",
    "The low pass filter uses a basic moving average filter (rect), which is a sinc function in the frequency domain.\n",
    "The high pass filter uses a sinusoidal filter, which becomes an ideal high pass filter in the frequency domain."
   ]
  },
  {
   "cell_type": "code",
   "execution_count": 64,
   "metadata": {},
   "outputs": [],
   "source": [
    "def lpf(X, filter_width=7):\n",
    "    rect = np.ones(filter_width) / filter_width\n",
    "    rect = rect.reshape((1, 1, 1, rect.shape[0])) # 1x1x7\n",
    "    rect = torch.tensor(rect).detach().float().to(device)\n",
    "    out = nn.functional.conv2d(input=X,weight=rect,stride=1,padding='same')\n",
    "    return out\n",
    "\n",
    "def hpf(X, filter_width=7, subsample=2):\n",
    "    # since the subsampling in the preprocessing affects the time axis, we need to keep track of that\n",
    "    # the default subsampling in the preprocessing is 2, and the sampling rate in the paper is 250 Hz,\n",
    "    # so each time step is 8 ms \n",
    "    time = np.arange(filter_width) / 250 * 2\n",
    "    time = time - np.mean(time) # center time array around 0\n",
    "    ihpf = 1-1/2*(1+np.cos(2*np.pi*time/filter_width))\n",
    "    ihpf = ihpf.reshape((1, 1, 1, ihpf.shape[0]))\n",
    "    ihpf = torch.tensor(ihpf).detach().float().to(device)\n",
    "    out = nn.functional.conv2d(input=X,weight=ihpf,stride=1,padding='same')\n",
    "    return out"
   ]
  },
  {
   "cell_type": "code",
   "execution_count": 69,
   "metadata": {},
   "outputs": [
    {
     "name": "stdout",
     "output_type": "stream",
     "text": [
      "1\n",
      "torch.Size([1, 1, 1, 20])\n",
      "tensor([[[[-0.2488, -0.2359, -0.2046,  0.1295,  0.0531,  0.1965,  0.0719,\n",
      "            0.1501,  0.2196,  0.3143,  0.0239, -0.0604, -0.2232, -0.3644,\n",
      "           -0.4089, -0.5585, -0.6919, -0.7356, -0.6397, -0.5130]]]],\n",
      "       device='cuda:0')\n",
      "torch.Size([1, 1, 1, 20])\n",
      "tensor([[[[-1.2521e-04, -2.6920e-05,  3.5601e-05,  2.8732e-04, -2.2957e-05,\n",
      "           -7.0056e-05, -2.4926e-04, -4.1845e-05,  1.8565e-04,  4.0132e-04,\n",
      "            7.0354e-05, -1.0913e-04, -3.2562e-04, -3.3321e-04, -7.9193e-05,\n",
      "           -1.5616e-07, -4.5999e-05, -1.6670e-04, -2.4634e-04, -3.3626e-04]]]],\n",
      "       device='cuda:0')\n",
      "torch.Size([1, 1, 1, 20])\n"
     ]
    }
   ],
   "source": [
    "# test lpf and hpf\n",
    "X = np.random.normal(0.0, 1, (1, 1, 1,20))\n",
    "# X = X.reshape(1, len(X))\n",
    "X = torch.tensor(X).float().to(device)\n",
    "print(X.size(0))\n",
    "print(X.shape)\n",
    "out = lpf(X)\n",
    "print(out)\n",
    "print(out.shape)\n",
    "\n",
    "out2 = hpf(X)\n",
    "print(out2)\n",
    "print(out2.shape)"
   ]
  },
  {
   "cell_type": "markdown",
   "metadata": {},
   "source": [
    "This makes sense because the fourier transform of a standard normal Gaussian is another Gaussian in the frequency domain. A low pass filter extracts the region close to the center, while the high pass filter extracts regions away from the center. Therefore, it makes sense that the high-pass filter produces values very close to 0."
   ]
  },
  {
   "cell_type": "code",
   "execution_count": 67,
   "metadata": {},
   "outputs": [
    {
     "name": "stdout",
     "output_type": "stream",
     "text": [
      "X train:  (2115, 22, 1000)\n",
      "y train:  (2115,)\n",
      "Person train+valid:  (2115, 1)\n",
      "X test:  (443, 22, 1000)\n",
      "y test:  (443,)\n",
      "Person test:  (443, 1)\n"
     ]
    }
   ],
   "source": [
    "# Load training data\n",
    "X_train_valid = np.load(\"C:/Users/awong/OneDrive/Desktop/PythonScripts/C147HW/Final Project/project_data/project/X_train_valid.npy\")\n",
    "y_train_valid = np.load(\"C:/Users/awong/OneDrive/Desktop/PythonScripts/C147HW/Final Project/project_data/project/y_train_valid.npy\")\n",
    "y_train_valid = y_train_valid - 769\n",
    "person_train_valid = np.load(\"C:/Users/awong/OneDrive/Desktop/PythonScripts/C147HW/Final Project/project_data/project/person_train_valid.npy\")\n",
    "\n",
    "# Load test data\n",
    "X_test = np.load(\"C:/Users/awong/OneDrive/Desktop/PythonScripts/C147HW/Final Project/project_data/project/X_test.npy\")\n",
    "y_test = np.load(\"C:/Users/awong/OneDrive/Desktop/PythonScripts/C147HW/Final Project/project_data/project/y_test.npy\")\n",
    "y_test = y_test - 769\n",
    "person_test = np.load(\"C:/Users/awong/OneDrive/Desktop/PythonScripts/C147HW/Final Project/project_data/project/person_test.npy\")\n",
    "\n",
    "# Print shapes\n",
    "print('X train: ', X_train_valid.shape)\n",
    "print('y train: ', y_train_valid.shape)\n",
    "print('Person train+valid: ', person_train_valid.shape)\n",
    "print('X test: ', X_test.shape)\n",
    "print('y test: ', y_test.shape)\n",
    "print('Person test: ', person_test.shape)"
   ]
  },
  {
   "cell_type": "markdown",
   "metadata": {},
   "source": [
    "We plan to implement this after the default preprocessing. We are filtering the unprocessed data just for demonstration."
   ]
  },
  {
   "cell_type": "code",
   "execution_count": 68,
   "metadata": {},
   "outputs": [
    {
     "name": "stdout",
     "output_type": "stream",
     "text": [
      "Training and Validation shapes before preprocessing: \n",
      "X train:  (1692, 22, 1000)  Y train:  (1692,)\n",
      "X val:  (423, 22, 1000)  Y val (423,)\n",
      "(1692, 22, 1000)\n",
      "(1692, 1, 22, 1000)\n",
      "Shape of training set after LPF:  torch.Size([1692, 1, 22, 1000])\n",
      "Shape of training set after HPF:  torch.Size([1692, 1, 22, 1000])\n"
     ]
    }
   ],
   "source": [
    "## Randomly split the train/validation dataset\n",
    "ind_valid = np.random.choice(X_train_valid.shape[0], int(X_train_valid.shape[0]/5), replace=False)\n",
    "ind_train = np.array(list(set(range(X_train_valid.shape[0])).difference(set(ind_valid))))\n",
    "x_valid, y_valid = X_train_valid[ind_valid], y_train_valid[ind_valid]\n",
    "x_train, y_train = X_train_valid[ind_train], y_train_valid[ind_train]\n",
    "print('Training and Validation shapes before preprocessing: ')\n",
    "print('X train: ', x_train.shape, ' Y train: ', y_train.shape)\n",
    "print('X val: ', x_valid.shape, ' Y val', y_valid.shape)\n",
    "\n",
    "print(x_train.shape)\n",
    "x_train = x_train.reshape((x_train.shape[0], 1, x_train.shape[1], x_train.shape[2]))\n",
    "print(x_train.shape)\n",
    "x_train = torch.tensor(x_train).detach().float().to(device)\n",
    "x_train_lpf = lpf(x_train)\n",
    "print('Shape of training set after LPF: ', x_train_lpf.shape)\n",
    "\n",
    "x_train_hpf = lpf(x_train)\n",
    "print('Shape of training set after HPF: ', x_train_hpf.shape)"
   ]
  }
 ],
 "metadata": {
  "kernelspec": {
   "display_name": "c147proj",
   "language": "python",
   "name": "python3"
  },
  "language_info": {
   "codemirror_mode": {
    "name": "ipython",
    "version": 3
   },
   "file_extension": ".py",
   "mimetype": "text/x-python",
   "name": "python",
   "nbconvert_exporter": "python",
   "pygments_lexer": "ipython3",
   "version": "3.12.2"
  }
 },
 "nbformat": 4,
 "nbformat_minor": 2
}
