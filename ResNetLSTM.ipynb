{
 "cells": [
  {
   "cell_type": "markdown",
   "metadata": {},
   "source": [
    "# CNN-LSTM Hybrid for Decoding EEG\n",
    "\n",
    "In this notebook, we will explore how a Resnet-LSTM performs on EEG data, which has both spatial and temporal components."
   ]
  },
  {
   "cell_type": "code",
   "execution_count": 1,
   "metadata": {},
   "outputs": [
    {
     "data": {
      "text/plain": [
       "<contextlib.ExitStack at 0x1a6e29b1670>"
      ]
     },
     "execution_count": 1,
     "metadata": {},
     "output_type": "execute_result"
    }
   ],
   "source": [
    "from resnetLSTM import *\n",
    "\n",
    "import torch\n",
    "import torch.nn as nn\n",
    "import torch.optim as optim\n",
    "from torch.optim import lr_scheduler\n",
    "import torch.backends.cudnn as cudnn\n",
    "import numpy as np\n",
    "import torchvision\n",
    "from torchvision import datasets, models, transforms\n",
    "from torch import Tensor\n",
    "from typing import Type\n",
    "import matplotlib.pyplot as plt\n",
    "import time\n",
    "import os\n",
    "from PIL import Image\n",
    "from tempfile import TemporaryDirectory\n",
    "import random\n",
    "\n",
    "cudnn.benchmark = True\n",
    "plt.ion()   # interactive mode"
   ]
  },
  {
   "cell_type": "code",
   "execution_count": 2,
   "metadata": {},
   "outputs": [
    {
     "name": "stdout",
     "output_type": "stream",
     "text": [
      "Using cuda\n"
     ]
    }
   ],
   "source": [
    "if torch.cuda.is_available():\n",
    "  device = torch.device('cuda')\n",
    "elif torch.backends.mps.is_available():\n",
    "  device = torch.device('mps')\n",
    "else:\n",
    "  device = torch.device('cpu')\n",
    "\n",
    "print(\"Using\", device)"
   ]
  },
  {
   "cell_type": "code",
   "execution_count": 3,
   "metadata": {},
   "outputs": [
    {
     "name": "stdout",
     "output_type": "stream",
     "text": [
      "(2115, 22, 1000)\n",
      "(2115,)\n",
      "(2115, 1)\n",
      "(443, 22, 1000)\n",
      "(443,)\n",
      "(443, 1)\n"
     ]
    }
   ],
   "source": [
    "# Load training data\n",
    "X_train_valid = np.load(\"C:/Users/awong/OneDrive/Desktop/PythonScripts/C147HW/Final Project/project_data/project/X_train_valid.npy\")\n",
    "y_train_valid = np.load(\"C:/Users/awong/OneDrive/Desktop/PythonScripts/C147HW/Final Project/project_data/project/y_train_valid.npy\")\n",
    "y_train_valid = y_train_valid - 769\n",
    "person_train_valid = np.load(\"C:/Users/awong/OneDrive/Desktop/PythonScripts/C147HW/Final Project/project_data/project/person_train_valid.npy\")\n",
    "\n",
    "# Load test data\n",
    "X_test = np.load(\"C:/Users/awong/OneDrive/Desktop/PythonScripts/C147HW/Final Project/project_data/project/X_test.npy\")\n",
    "y_test = np.load(\"C:/Users/awong/OneDrive/Desktop/PythonScripts/C147HW/Final Project/project_data/project/y_test.npy\")\n",
    "y_test = y_test - 769\n",
    "person_test = np.load(\"C:/Users/awong/OneDrive/Desktop/PythonScripts/C147HW/Final Project/project_data/project/person_test.npy\")\n",
    "\n",
    "# Print shapes\n",
    "print(X_train_valid.shape)\n",
    "print(y_train_valid.shape)\n",
    "print(person_train_valid.shape)\n",
    "print(X_test.shape)\n",
    "print(y_test.shape)\n",
    "print(person_test.shape)"
   ]
  },
  {
   "cell_type": "code",
   "execution_count": 4,
   "metadata": {},
   "outputs": [
    {
     "name": "stdout",
     "output_type": "stream",
     "text": [
      "Shape of X after trimming: (2115, 22, 800)\n",
      "Shape of X after maxpooling: (2115, 22, 400)\n",
      "Shape of X after averaging+noise and concatenating: (4230, 22, 400)\n",
      "Shape of X after subsampling and concatenating: (8460, 22, 400)\n",
      "Shape of Y: (8460,)\n",
      "Shape of X after trimming: (443, 22, 800)\n",
      "Shape of X after maxpooling: (443, 22, 400)\n",
      "Shape of training set: torch.Size([7460, 22, 400])\n",
      "Shape of validation set: torch.Size([1000, 22, 400])\n",
      "Shape of training labels: (7460,)\n",
      "Shape of validation labels: (1000,)\n",
      "Shape of training labels after categorical conversion: torch.Size([7460, 4])\n",
      "Shape of validation labels after categorical conversion: torch.Size([1000, 4])\n",
      "Shape of test labels after categorical conversion: torch.Size([443, 4])\n",
      "Shape of training set after adding width info: torch.Size([7460, 22, 400, 1])\n",
      "Shape of validation set after adding width info: torch.Size([1000, 22, 400, 1])\n",
      "Shape of test set after adding width info: (443, 22, 400, 1)\n",
      "Shape of training set after dimension reshaping: torch.Size([7460, 1, 22, 400])\n",
      "Shape of validation set after dimension reshaping: torch.Size([1000, 1, 22, 400])\n",
      "Shape of test set after dimension reshaping: torch.Size([443, 1, 22, 400])\n"
     ]
    }
   ],
   "source": [
    "\n",
    "## Preprocessing the dataset\n",
    "\n",
    "X_train_valid_prep,y_train_valid_prep = train_data_prep(X_train_valid,y_train_valid,2,2,True)\n",
    "X_test_prep = test_data_prep(X_test) \n",
    "\n",
    "## Random splitting and reshaping the data\n",
    "\n",
    "# First generating the training and validation indices using random splitting\n",
    "ind_valid = np.random.choice(8460, 1000, replace=False)\n",
    "ind_train = np.array(list(set(range(8460)).difference(set(ind_valid))))\n",
    "\n",
    "# Creating the training and validation sets using the generated indices\n",
    "(x_train, x_valid) = X_train_valid_prep[ind_train], X_train_valid_prep[ind_valid] \n",
    "(y_train, y_valid) = y_train_valid_prep[ind_train], y_train_valid_prep[ind_valid]\n",
    "x_train = torch.tensor(x_train).detach().float().to(device)\n",
    "x_valid = torch.tensor(x_valid).detach().float().to(device)\n",
    "print('Shape of training set:',x_train.shape)\n",
    "print('Shape of validation set:',x_valid.shape)\n",
    "print('Shape of training labels:',y_train.shape)\n",
    "print('Shape of validation labels:',y_valid.shape)\n",
    "\n",
    "# Converting the labels to categorical variables for multiclass classification\n",
    "y_train, y_valid, y_test = torch.tensor(y_train).to(device), torch.tensor(y_valid).to(device), torch.tensor(y_test).to(device)\n",
    "y_train = nn.functional.one_hot(y_train.long(), 4)\n",
    "y_valid = nn.functional.one_hot(y_valid.long(), 4)\n",
    "y_test = nn.functional.one_hot(y_test.long(), 4)\n",
    "print('Shape of training labels after categorical conversion:',y_train.shape)\n",
    "print('Shape of validation labels after categorical conversion:',y_valid.shape)\n",
    "print('Shape of test labels after categorical conversion:',y_test.shape)\n",
    "\n",
    "# Adding width of the segment to be 1\n",
    "x_train = x_train.reshape(x_train.shape[0], x_train.shape[1], x_train.shape[2], 1)\n",
    "x_valid = x_valid.reshape(x_valid.shape[0], x_valid.shape[1], x_train.shape[2], 1)\n",
    "x_test = X_test_prep.reshape(X_test_prep.shape[0], X_test_prep.shape[1], X_test_prep.shape[2], 1)\n",
    "print('Shape of training set after adding width info:',x_train.shape)\n",
    "print('Shape of validation set after adding width info:',x_valid.shape)\n",
    "print('Shape of test set after adding width info:',x_test.shape)\n",
    "\n",
    "\n",
    "# Reshaping the training and validation dataset\n",
    "x_train = np.swapaxes(x_train, 1,3)\n",
    "x_train = np.swapaxes(x_train, 2,3)\n",
    "x_valid = np.swapaxes(x_valid, 1,3)\n",
    "x_valid = np.swapaxes(x_valid, 2,3)\n",
    "x_test = np.swapaxes(x_test, 1,3)\n",
    "x_test = np.swapaxes(x_test, 2,3)\n",
    "x_test = torch.tensor(x_test).detach().float().to(device)\n",
    "print('Shape of training set after dimension reshaping:',x_train.shape)\n",
    "print('Shape of validation set after dimension reshaping:',x_valid.shape)\n",
    "print('Shape of test set after dimension reshaping:',x_test.shape)"
   ]
  },
  {
   "cell_type": "code",
   "execution_count": 5,
   "metadata": {},
   "outputs": [
    {
     "name": "stdout",
     "output_type": "stream",
     "text": [
      "10 10\n"
     ]
    }
   ],
   "source": [
    "# #Test random sample function\n",
    "bsz = 10\n",
    "x_train_sample, y_train_sample = sample(x_train, y_train, bsz)\n",
    "print(len(x_train_sample), len(y_train_sample))"
   ]
  },
  {
   "cell_type": "markdown",
   "metadata": {},
   "source": [
    "# Build Resnet-18\n",
    "https://debuggercafe.com/implementing-resnet18-in-pytorch-from-scratch/\n",
    "\n",
    "Added these additional imports:\n",
    "\n",
    "from torch import Tensor\n",
    "\n",
    "from typing import Type\n",
    "\n",
    "Since the inputs are 22x1000, we can use 3x3 filters with pad=1 and stride=1"
   ]
  },
  {
   "cell_type": "code",
   "execution_count": 6,
   "metadata": {},
   "outputs": [
    {
     "name": "stderr",
     "output_type": "stream",
     "text": [
      "c:\\Users\\awong\\anaconda3\\envs\\c147proj\\Lib\\site-packages\\torch\\nn\\modules\\rnn.py:83: UserWarning: dropout option adds dropout after all but last recurrent layer, so non-zero dropout expects num_layers greater than 1, but got dropout=0.6 and num_layers=1\n",
      "  warnings.warn(\"dropout option adds dropout after all but last \"\n"
     ]
    },
    {
     "name": "stdout",
     "output_type": "stream",
     "text": [
      "ResNetLSTM(\n",
      "  (conv1): Conv2d(1, 48, kernel_size=(1, 3), stride=(1, 1), padding=same, bias=False)\n",
      "  (bn1): BatchNorm2d(48, eps=1e-05, momentum=0.1, affine=True, track_running_stats=True)\n",
      "  (relu): ReLU(inplace=True)\n",
      "  (conv2): Conv2d(48, 48, kernel_size=(22, 1), stride=(1, 1), bias=False)\n",
      "  (bn2): BatchNorm2d(48, eps=1e-05, momentum=0.1, affine=True, track_running_stats=True)\n",
      "  (elu): ELU(alpha=1.0, inplace=True)\n",
      "  (res1): BasicBlock(\n",
      "    (conv1): Conv2d(48, 48, kernel_size=(1, 3), stride=(1, 1), padding=same, bias=False)\n",
      "    (bn1): BatchNorm2d(48, eps=1e-05, momentum=0.1, affine=True, track_running_stats=True)\n",
      "    (dropout1): Dropout2d(p=0.6, inplace=False)\n",
      "    (elu): ELU(alpha=1.0, inplace=True)\n",
      "    (conv2): Conv2d(48, 48, kernel_size=(1, 3), stride=(1, 1), padding=same, bias=False)\n",
      "    (bn2): BatchNorm2d(48, eps=1e-05, momentum=0.1, affine=True, track_running_stats=True)\n",
      "    (dropout2): Dropout2d(p=0.6, inplace=False)\n",
      "    (shortcut): Identity()\n",
      "  )\n",
      "  (res2): BasicBlock(\n",
      "    (conv1): Conv2d(48, 48, kernel_size=(1, 3), stride=(1, 1), padding=same, bias=False)\n",
      "    (bn1): BatchNorm2d(48, eps=1e-05, momentum=0.1, affine=True, track_running_stats=True)\n",
      "    (dropout1): Dropout2d(p=0.6, inplace=False)\n",
      "    (elu): ELU(alpha=1.0, inplace=True)\n",
      "    (conv2): Conv2d(48, 48, kernel_size=(1, 3), stride=(1, 1), padding=same, bias=False)\n",
      "    (bn2): BatchNorm2d(48, eps=1e-05, momentum=0.1, affine=True, track_running_stats=True)\n",
      "    (dropout2): Dropout2d(p=0.6, inplace=False)\n",
      "    (shortcut): Identity()\n",
      "  )\n",
      "  (res3): BasicBlock(\n",
      "    (conv1): Conv2d(48, 96, kernel_size=(1, 3), stride=(1, 2), padding=(0, 1), bias=False)\n",
      "    (bn1): BatchNorm2d(96, eps=1e-05, momentum=0.1, affine=True, track_running_stats=True)\n",
      "    (dropout1): Dropout2d(p=0.6, inplace=False)\n",
      "    (elu): ELU(alpha=1.0, inplace=True)\n",
      "    (conv2): Conv2d(96, 96, kernel_size=(1, 3), stride=(1, 1), padding=same, bias=False)\n",
      "    (bn2): BatchNorm2d(96, eps=1e-05, momentum=0.1, affine=True, track_running_stats=True)\n",
      "    (dropout2): Dropout2d(p=0.6, inplace=False)\n",
      "    (shortcut): Sequential(\n",
      "      (0): Conv2d(48, 96, kernel_size=(1, 1), stride=(2, 2), bias=False)\n",
      "      (1): BatchNorm2d(96, eps=1e-05, momentum=0.1, affine=True, track_running_stats=True)\n",
      "    )\n",
      "  )\n",
      "  (avgpool): AvgPool2d(kernel_size=(1, 10), stride=1, padding=0)\n",
      "  (conv3): Conv2d(96, 4, kernel_size=(1, 1), stride=(1, 1), bias=False)\n",
      "  (fc1): Linear(in_features=764, out_features=10, bias=True)\n",
      "  (lstm): LSTM(10, 10, batch_first=True, dropout=0.6)\n",
      "  (fc2): Linear(in_features=10, out_features=4, bias=True)\n",
      ")\n",
      "134,670 total parameters.\n",
      "134,670 training parameters.\n"
     ]
    }
   ],
   "source": [
    "model = ResNetLSTM(img_channels=1, num_layers=18, block=BasicBlock, num_classes=4, dropout=0.6).to(device)\n",
    "print(model)\n",
    "total_params = sum(p.numel() for p in model.parameters())\n",
    "print(f\"{total_params:,} total parameters.\")\n",
    "total_trainable_params = sum(p.numel() for p in model.parameters() if p.requires_grad)\n",
    "print(f\"{total_trainable_params:,} training parameters.\")"
   ]
  },
  {
   "cell_type": "code",
   "execution_count": 7,
   "metadata": {},
   "outputs": [],
   "source": [
    "# Choose Criterion and Optimizer\n",
    "criterion = nn.CrossEntropyLoss()\n",
    "optimizer = torch.optim.Adam(model.parameters(), lr=0.001, weight_decay=1e-4)\n",
    "lr_scheduler = torch.optim.lr_scheduler.ExponentialLR(optimizer, gamma=0.9)"
   ]
  },
  {
   "cell_type": "markdown",
   "metadata": {},
   "source": [
    "## Train the ResNet on the entire data."
   ]
  },
  {
   "cell_type": "code",
   "execution_count": 9,
   "metadata": {},
   "outputs": [
    {
     "name": "stderr",
     "output_type": "stream",
     "text": [
      "  0%|          | 0/100 [00:00<?, ?it/s]"
     ]
    },
    {
     "name": "stderr",
     "output_type": "stream",
     "text": [
      "C:\\Users\\awong\\AppData\\Local\\Temp\\ipykernel_14752\\2130566024.py:48: UserWarning: Implicit dimension choice for softmax has been deprecated. Change the call to include dim=X as an argument.\n",
      "  logits = nn.functional.softmax(logits)\n",
      "  1%|          | 1/100 [01:06<1:48:56, 66.03s/it]"
     ]
    },
    {
     "name": "stdout",
     "output_type": "stream",
     "text": [
      "Epoch 1 Finished!!!\n",
      "Train acc: 0.360, Val acc: 0.430\n",
      "Train loss: 1.356, Val loss: 1.348\n",
      "Epoch 2 Finished!!!\n"
     ]
    },
    {
     "name": "stderr",
     "output_type": "stream",
     "text": [
      "  2%|▏         | 2/100 [01:37<1:14:42, 45.74s/it]"
     ]
    },
    {
     "name": "stdout",
     "output_type": "stream",
     "text": [
      "Train acc: 0.440, Val acc: 0.448\n",
      "Train loss: 1.296, Val loss: 1.299\n",
      "Epoch 3 Finished!!!\n"
     ]
    },
    {
     "name": "stderr",
     "output_type": "stream",
     "text": [
      "  3%|▎         | 3/100 [02:08<1:03:02, 38.99s/it]"
     ]
    },
    {
     "name": "stdout",
     "output_type": "stream",
     "text": [
      "Train acc: 0.530, Val acc: 0.479\n",
      "Train loss: 1.238, Val loss: 1.265\n",
      "Epoch 4 Finished!!!\n"
     ]
    },
    {
     "name": "stderr",
     "output_type": "stream",
     "text": [
      "  4%|▍         | 4/100 [02:39<57:22, 35.86s/it]  "
     ]
    },
    {
     "name": "stdout",
     "output_type": "stream",
     "text": [
      "Train acc: 0.470, Val acc: 0.475\n",
      "Train loss: 1.253, Val loss: 1.257\n",
      "Epoch 5 Finished!!!\n"
     ]
    },
    {
     "name": "stderr",
     "output_type": "stream",
     "text": [
      "  5%|▌         | 5/100 [03:08<53:03, 33.51s/it]"
     ]
    },
    {
     "name": "stdout",
     "output_type": "stream",
     "text": [
      "Train acc: 0.580, Val acc: 0.520\n",
      "Train loss: 1.192, Val loss: 1.229\n",
      "Epoch 6 Finished!!!\n"
     ]
    },
    {
     "name": "stderr",
     "output_type": "stream",
     "text": [
      "  6%|▌         | 6/100 [03:34<48:28, 30.94s/it]"
     ]
    },
    {
     "name": "stdout",
     "output_type": "stream",
     "text": [
      "Train acc: 0.480, Val acc: 0.511\n",
      "Train loss: 1.252, Val loss: 1.231\n",
      "Epoch 7 Finished!!!\n"
     ]
    },
    {
     "name": "stderr",
     "output_type": "stream",
     "text": [
      "  7%|▋         | 7/100 [04:00<45:26, 29.32s/it]"
     ]
    },
    {
     "name": "stdout",
     "output_type": "stream",
     "text": [
      "Train acc: 0.570, Val acc: 0.527\n",
      "Train loss: 1.211, Val loss: 1.215\n",
      "Epoch 8 Finished!!!\n"
     ]
    },
    {
     "name": "stderr",
     "output_type": "stream",
     "text": [
      "  8%|▊         | 8/100 [04:26<43:21, 28.27s/it]"
     ]
    },
    {
     "name": "stdout",
     "output_type": "stream",
     "text": [
      "Train acc: 0.600, Val acc: 0.517\n",
      "Train loss: 1.158, Val loss: 1.221\n",
      "Epoch 9 Finished!!!\n"
     ]
    },
    {
     "name": "stderr",
     "output_type": "stream",
     "text": [
      "  9%|▉         | 9/100 [04:52<41:49, 27.58s/it]"
     ]
    },
    {
     "name": "stdout",
     "output_type": "stream",
     "text": [
      "Train acc: 0.600, Val acc: 0.535\n",
      "Train loss: 1.149, Val loss: 1.199\n",
      "Epoch 10 Finished!!!\n"
     ]
    },
    {
     "name": "stderr",
     "output_type": "stream",
     "text": [
      " 10%|█         | 10/100 [05:19<40:39, 27.11s/it]"
     ]
    },
    {
     "name": "stdout",
     "output_type": "stream",
     "text": [
      "Train acc: 0.590, Val acc: 0.539\n",
      "Train loss: 1.171, Val loss: 1.200\n",
      "Epoch 11 Finished!!!\n"
     ]
    },
    {
     "name": "stderr",
     "output_type": "stream",
     "text": [
      " 11%|█         | 11/100 [05:45<39:44, 26.80s/it]"
     ]
    },
    {
     "name": "stdout",
     "output_type": "stream",
     "text": [
      "Train acc: 0.580, Val acc: 0.547\n",
      "Train loss: 1.169, Val loss: 1.190\n",
      "Epoch 12 Finished!!!\n"
     ]
    },
    {
     "name": "stderr",
     "output_type": "stream",
     "text": [
      " 12%|█▏        | 12/100 [06:11<38:59, 26.58s/it]"
     ]
    },
    {
     "name": "stdout",
     "output_type": "stream",
     "text": [
      "Train acc: 0.560, Val acc: 0.557\n",
      "Train loss: 1.197, Val loss: 1.189\n",
      "Epoch 13 Finished!!!\n"
     ]
    },
    {
     "name": "stderr",
     "output_type": "stream",
     "text": [
      " 13%|█▎        | 13/100 [06:37<38:20, 26.44s/it]"
     ]
    },
    {
     "name": "stdout",
     "output_type": "stream",
     "text": [
      "Train acc: 0.560, Val acc: 0.564\n",
      "Train loss: 1.192, Val loss: 1.174\n",
      "Epoch 14 Finished!!!\n"
     ]
    },
    {
     "name": "stderr",
     "output_type": "stream",
     "text": [
      " 14%|█▍        | 14/100 [07:03<37:51, 26.41s/it]"
     ]
    },
    {
     "name": "stdout",
     "output_type": "stream",
     "text": [
      "Train acc: 0.650, Val acc: 0.592\n",
      "Train loss: 1.115, Val loss: 1.158\n",
      "Epoch 15 Finished!!!\n"
     ]
    },
    {
     "name": "stderr",
     "output_type": "stream",
     "text": [
      " 15%|█▌        | 15/100 [07:30<37:27, 26.44s/it]"
     ]
    },
    {
     "name": "stdout",
     "output_type": "stream",
     "text": [
      "Train acc: 0.640, Val acc: 0.554\n",
      "Train loss: 1.103, Val loss: 1.176\n",
      "Epoch 16 Finished!!!\n"
     ]
    },
    {
     "name": "stderr",
     "output_type": "stream",
     "text": [
      " 16%|█▌        | 16/100 [07:56<36:58, 26.42s/it]"
     ]
    },
    {
     "name": "stdout",
     "output_type": "stream",
     "text": [
      "Train acc: 0.570, Val acc: 0.563\n",
      "Train loss: 1.183, Val loss: 1.168\n",
      "Epoch 17 Finished!!!\n"
     ]
    },
    {
     "name": "stderr",
     "output_type": "stream",
     "text": [
      " 17%|█▋        | 17/100 [08:22<36:25, 26.33s/it]"
     ]
    },
    {
     "name": "stdout",
     "output_type": "stream",
     "text": [
      "Train acc: 0.570, Val acc: 0.600\n",
      "Train loss: 1.194, Val loss: 1.143\n",
      "Epoch 18 Finished!!!\n"
     ]
    },
    {
     "name": "stderr",
     "output_type": "stream",
     "text": [
      " 18%|█▊        | 18/100 [08:49<36:09, 26.46s/it]"
     ]
    },
    {
     "name": "stdout",
     "output_type": "stream",
     "text": [
      "Train acc: 0.630, Val acc: 0.606\n",
      "Train loss: 1.110, Val loss: 1.143\n",
      "Epoch 19 Finished!!!\n"
     ]
    },
    {
     "name": "stderr",
     "output_type": "stream",
     "text": [
      " 19%|█▉        | 19/100 [09:15<35:40, 26.42s/it]"
     ]
    },
    {
     "name": "stdout",
     "output_type": "stream",
     "text": [
      "Train acc: 0.510, Val acc: 0.580\n",
      "Train loss: 1.206, Val loss: 1.160\n",
      "Epoch 20 Finished!!!\n"
     ]
    },
    {
     "name": "stderr",
     "output_type": "stream",
     "text": [
      " 20%|██        | 20/100 [09:41<35:08, 26.35s/it]"
     ]
    },
    {
     "name": "stdout",
     "output_type": "stream",
     "text": [
      "Train acc: 0.570, Val acc: 0.605\n",
      "Train loss: 1.167, Val loss: 1.140\n",
      "Epoch 21 Finished!!!\n"
     ]
    },
    {
     "name": "stderr",
     "output_type": "stream",
     "text": [
      " 21%|██        | 21/100 [10:08<34:38, 26.31s/it]"
     ]
    },
    {
     "name": "stdout",
     "output_type": "stream",
     "text": [
      "Train acc: 0.590, Val acc: 0.601\n",
      "Train loss: 1.147, Val loss: 1.141\n",
      "Epoch 22 Finished!!!\n"
     ]
    },
    {
     "name": "stderr",
     "output_type": "stream",
     "text": [
      " 22%|██▏       | 22/100 [10:34<34:08, 26.27s/it]"
     ]
    },
    {
     "name": "stdout",
     "output_type": "stream",
     "text": [
      "Train acc: 0.580, Val acc: 0.605\n",
      "Train loss: 1.143, Val loss: 1.142\n",
      "Epoch 23 Finished!!!\n"
     ]
    },
    {
     "name": "stderr",
     "output_type": "stream",
     "text": [
      " 23%|██▎       | 23/100 [11:00<33:40, 26.24s/it]"
     ]
    },
    {
     "name": "stdout",
     "output_type": "stream",
     "text": [
      "Train acc: 0.520, Val acc: 0.596\n",
      "Train loss: 1.208, Val loss: 1.138\n",
      "Epoch 24 Finished!!!\n"
     ]
    },
    {
     "name": "stderr",
     "output_type": "stream",
     "text": [
      " 24%|██▍       | 24/100 [11:26<33:12, 26.22s/it]"
     ]
    },
    {
     "name": "stdout",
     "output_type": "stream",
     "text": [
      "Train acc: 0.640, Val acc: 0.591\n",
      "Train loss: 1.104, Val loss: 1.147\n",
      "Epoch 25 Finished!!!\n"
     ]
    },
    {
     "name": "stderr",
     "output_type": "stream",
     "text": [
      " 25%|██▌       | 25/100 [11:52<32:45, 26.21s/it]"
     ]
    },
    {
     "name": "stdout",
     "output_type": "stream",
     "text": [
      "Train acc: 0.730, Val acc: 0.641\n",
      "Train loss: 1.019, Val loss: 1.100\n",
      "Epoch 26 Finished!!!\n"
     ]
    },
    {
     "name": "stderr",
     "output_type": "stream",
     "text": [
      " 26%|██▌       | 26/100 [12:19<32:19, 26.21s/it]"
     ]
    },
    {
     "name": "stdout",
     "output_type": "stream",
     "text": [
      "Train acc: 0.620, Val acc: 0.609\n",
      "Train loss: 1.130, Val loss: 1.129\n",
      "Epoch 27 Finished!!!\n"
     ]
    },
    {
     "name": "stderr",
     "output_type": "stream",
     "text": [
      " 27%|██▋       | 27/100 [12:45<31:54, 26.22s/it]"
     ]
    },
    {
     "name": "stdout",
     "output_type": "stream",
     "text": [
      "Train acc: 0.630, Val acc: 0.660\n",
      "Train loss: 1.108, Val loss: 1.087\n",
      "Epoch 28 Finished!!!\n"
     ]
    },
    {
     "name": "stderr",
     "output_type": "stream",
     "text": [
      " 28%|██▊       | 28/100 [13:11<31:27, 26.22s/it]"
     ]
    },
    {
     "name": "stdout",
     "output_type": "stream",
     "text": [
      "Train acc: 0.670, Val acc: 0.637\n",
      "Train loss: 1.081, Val loss: 1.103\n",
      "Epoch 29 Finished!!!\n"
     ]
    },
    {
     "name": "stderr",
     "output_type": "stream",
     "text": [
      " 29%|██▉       | 29/100 [13:38<31:08, 26.31s/it]"
     ]
    },
    {
     "name": "stdout",
     "output_type": "stream",
     "text": [
      "Train acc: 0.690, Val acc: 0.659\n",
      "Train loss: 1.076, Val loss: 1.091\n",
      "Epoch 30 Finished!!!\n"
     ]
    },
    {
     "name": "stderr",
     "output_type": "stream",
     "text": [
      " 30%|███       | 30/100 [14:04<30:45, 26.37s/it]"
     ]
    },
    {
     "name": "stdout",
     "output_type": "stream",
     "text": [
      "Train acc: 0.750, Val acc: 0.605\n",
      "Train loss: 0.990, Val loss: 1.128\n",
      "Epoch 31 Finished!!!\n"
     ]
    },
    {
     "name": "stderr",
     "output_type": "stream",
     "text": [
      " 31%|███       | 31/100 [14:30<30:18, 26.35s/it]"
     ]
    },
    {
     "name": "stdout",
     "output_type": "stream",
     "text": [
      "Train acc: 0.680, Val acc: 0.659\n",
      "Train loss: 1.074, Val loss: 1.095\n",
      "Epoch 32 Finished!!!\n"
     ]
    },
    {
     "name": "stderr",
     "output_type": "stream",
     "text": [
      " 32%|███▏      | 32/100 [14:57<29:50, 26.33s/it]"
     ]
    },
    {
     "name": "stdout",
     "output_type": "stream",
     "text": [
      "Train acc: 0.630, Val acc: 0.631\n",
      "Train loss: 1.092, Val loss: 1.104\n",
      "Epoch 33 Finished!!!\n"
     ]
    },
    {
     "name": "stderr",
     "output_type": "stream",
     "text": [
      " 33%|███▎      | 33/100 [15:23<29:23, 26.32s/it]"
     ]
    },
    {
     "name": "stdout",
     "output_type": "stream",
     "text": [
      "Train acc: 0.640, Val acc: 0.651\n",
      "Train loss: 1.096, Val loss: 1.097\n",
      "Epoch 34 Finished!!!\n"
     ]
    },
    {
     "name": "stderr",
     "output_type": "stream",
     "text": [
      " 34%|███▍      | 34/100 [15:49<28:55, 26.30s/it]"
     ]
    },
    {
     "name": "stdout",
     "output_type": "stream",
     "text": [
      "Train acc: 0.740, Val acc: 0.673\n",
      "Train loss: 1.008, Val loss: 1.072\n",
      "Epoch 35 Finished!!!\n"
     ]
    },
    {
     "name": "stderr",
     "output_type": "stream",
     "text": [
      " 35%|███▌      | 35/100 [16:15<28:27, 26.27s/it]"
     ]
    },
    {
     "name": "stdout",
     "output_type": "stream",
     "text": [
      "Train acc: 0.730, Val acc: 0.671\n",
      "Train loss: 1.023, Val loss: 1.075\n",
      "Epoch 36 Finished!!!\n"
     ]
    },
    {
     "name": "stderr",
     "output_type": "stream",
     "text": [
      " 36%|███▌      | 36/100 [16:42<28:00, 26.26s/it]"
     ]
    },
    {
     "name": "stdout",
     "output_type": "stream",
     "text": [
      "Train acc: 0.720, Val acc: 0.691\n",
      "Train loss: 1.018, Val loss: 1.055\n",
      "Epoch 37 Finished!!!\n"
     ]
    },
    {
     "name": "stderr",
     "output_type": "stream",
     "text": [
      " 37%|███▋      | 37/100 [17:08<27:33, 26.25s/it]"
     ]
    },
    {
     "name": "stdout",
     "output_type": "stream",
     "text": [
      "Train acc: 0.770, Val acc: 0.684\n",
      "Train loss: 0.995, Val loss: 1.063\n",
      "Epoch 38 Finished!!!\n"
     ]
    },
    {
     "name": "stderr",
     "output_type": "stream",
     "text": [
      " 38%|███▊      | 38/100 [17:34<27:07, 26.24s/it]"
     ]
    },
    {
     "name": "stdout",
     "output_type": "stream",
     "text": [
      "Train acc: 0.720, Val acc: 0.711\n",
      "Train loss: 1.042, Val loss: 1.043\n",
      "Epoch 39 Finished!!!\n"
     ]
    },
    {
     "name": "stderr",
     "output_type": "stream",
     "text": [
      " 39%|███▉      | 39/100 [18:00<26:40, 26.24s/it]"
     ]
    },
    {
     "name": "stdout",
     "output_type": "stream",
     "text": [
      "Train acc: 0.740, Val acc: 0.699\n",
      "Train loss: 1.009, Val loss: 1.047\n",
      "Epoch 40 Finished!!!\n"
     ]
    },
    {
     "name": "stderr",
     "output_type": "stream",
     "text": [
      " 40%|████      | 40/100 [18:27<26:14, 26.24s/it]"
     ]
    },
    {
     "name": "stdout",
     "output_type": "stream",
     "text": [
      "Train acc: 0.660, Val acc: 0.699\n",
      "Train loss: 1.086, Val loss: 1.046\n",
      "Epoch 41 Finished!!!\n"
     ]
    },
    {
     "name": "stderr",
     "output_type": "stream",
     "text": [
      " 41%|████      | 41/100 [18:53<25:48, 26.24s/it]"
     ]
    },
    {
     "name": "stdout",
     "output_type": "stream",
     "text": [
      "Train acc: 0.720, Val acc: 0.697\n",
      "Train loss: 1.026, Val loss: 1.050\n",
      "Epoch 42 Finished!!!\n"
     ]
    },
    {
     "name": "stderr",
     "output_type": "stream",
     "text": [
      " 42%|████▏     | 42/100 [19:19<25:22, 26.25s/it]"
     ]
    },
    {
     "name": "stdout",
     "output_type": "stream",
     "text": [
      "Train acc: 0.850, Val acc: 0.724\n",
      "Train loss: 0.924, Val loss: 1.024\n",
      "Epoch 43 Finished!!!\n"
     ]
    },
    {
     "name": "stderr",
     "output_type": "stream",
     "text": [
      " 43%|████▎     | 43/100 [19:45<24:55, 26.24s/it]"
     ]
    },
    {
     "name": "stdout",
     "output_type": "stream",
     "text": [
      "Train acc: 0.730, Val acc: 0.724\n",
      "Train loss: 1.002, Val loss: 1.027\n",
      "Epoch 44 Finished!!!\n"
     ]
    },
    {
     "name": "stderr",
     "output_type": "stream",
     "text": [
      " 44%|████▍     | 44/100 [20:11<24:28, 26.22s/it]"
     ]
    },
    {
     "name": "stdout",
     "output_type": "stream",
     "text": [
      "Train acc: 0.740, Val acc: 0.724\n",
      "Train loss: 1.014, Val loss: 1.025\n",
      "Epoch 45 Finished!!!\n"
     ]
    },
    {
     "name": "stderr",
     "output_type": "stream",
     "text": [
      " 45%|████▌     | 45/100 [20:38<24:01, 26.21s/it]"
     ]
    },
    {
     "name": "stdout",
     "output_type": "stream",
     "text": [
      "Train acc: 0.810, Val acc: 0.723\n",
      "Train loss: 0.939, Val loss: 1.026\n",
      "Epoch 46 Finished!!!\n"
     ]
    },
    {
     "name": "stderr",
     "output_type": "stream",
     "text": [
      " 46%|████▌     | 46/100 [21:04<23:35, 26.21s/it]"
     ]
    },
    {
     "name": "stdout",
     "output_type": "stream",
     "text": [
      "Train acc: 0.660, Val acc: 0.687\n",
      "Train loss: 1.090, Val loss: 1.061\n",
      "Epoch 47 Finished!!!\n"
     ]
    },
    {
     "name": "stderr",
     "output_type": "stream",
     "text": [
      " 47%|████▋     | 47/100 [21:30<23:08, 26.20s/it]"
     ]
    },
    {
     "name": "stdout",
     "output_type": "stream",
     "text": [
      "Train acc: 0.750, Val acc: 0.729\n",
      "Train loss: 1.001, Val loss: 1.020\n",
      "Epoch 48 Finished!!!\n"
     ]
    },
    {
     "name": "stderr",
     "output_type": "stream",
     "text": [
      " 48%|████▊     | 48/100 [21:56<22:41, 26.19s/it]"
     ]
    },
    {
     "name": "stdout",
     "output_type": "stream",
     "text": [
      "Train acc: 0.800, Val acc: 0.726\n",
      "Train loss: 0.962, Val loss: 1.021\n",
      "Epoch 49 Finished!!!\n"
     ]
    },
    {
     "name": "stderr",
     "output_type": "stream",
     "text": [
      " 49%|████▉     | 49/100 [22:22<22:17, 26.22s/it]"
     ]
    },
    {
     "name": "stdout",
     "output_type": "stream",
     "text": [
      "Train acc: 0.780, Val acc: 0.758\n",
      "Train loss: 0.969, Val loss: 0.998\n",
      "Epoch 50 Finished!!!\n"
     ]
    },
    {
     "name": "stderr",
     "output_type": "stream",
     "text": [
      " 50%|█████     | 50/100 [22:49<21:53, 26.27s/it]"
     ]
    },
    {
     "name": "stdout",
     "output_type": "stream",
     "text": [
      "Train acc: 0.740, Val acc: 0.713\n",
      "Train loss: 1.016, Val loss: 1.028\n",
      "Epoch 51 Finished!!!\n"
     ]
    },
    {
     "name": "stderr",
     "output_type": "stream",
     "text": [
      " 51%|█████     | 51/100 [23:16<21:43, 26.60s/it]"
     ]
    },
    {
     "name": "stdout",
     "output_type": "stream",
     "text": [
      "Train acc: 0.760, Val acc: 0.746\n",
      "Train loss: 1.000, Val loss: 1.004\n",
      "Epoch 52 Finished!!!\n"
     ]
    },
    {
     "name": "stderr",
     "output_type": "stream",
     "text": [
      " 52%|█████▏    | 52/100 [23:43<21:15, 26.57s/it]"
     ]
    },
    {
     "name": "stdout",
     "output_type": "stream",
     "text": [
      "Train acc: 0.860, Val acc: 0.757\n",
      "Train loss: 0.903, Val loss: 0.999\n",
      "Epoch 53 Finished!!!\n"
     ]
    },
    {
     "name": "stderr",
     "output_type": "stream",
     "text": [
      " 53%|█████▎    | 53/100 [24:10<21:02, 26.85s/it]"
     ]
    },
    {
     "name": "stdout",
     "output_type": "stream",
     "text": [
      "Train acc: 0.800, Val acc: 0.762\n",
      "Train loss: 0.949, Val loss: 0.987\n",
      "Epoch 54 Finished!!!\n"
     ]
    },
    {
     "name": "stderr",
     "output_type": "stream",
     "text": [
      " 54%|█████▍    | 54/100 [24:37<20:28, 26.71s/it]"
     ]
    },
    {
     "name": "stdout",
     "output_type": "stream",
     "text": [
      "Train acc: 0.880, Val acc: 0.761\n",
      "Train loss: 0.878, Val loss: 0.986\n",
      "Epoch 55 Finished!!!\n"
     ]
    },
    {
     "name": "stderr",
     "output_type": "stream",
     "text": [
      " 55%|█████▌    | 55/100 [25:03<19:56, 26.59s/it]"
     ]
    },
    {
     "name": "stdout",
     "output_type": "stream",
     "text": [
      "Train acc: 0.740, Val acc: 0.766\n",
      "Train loss: 1.017, Val loss: 0.986\n",
      "Epoch 56 Finished!!!\n"
     ]
    },
    {
     "name": "stderr",
     "output_type": "stream",
     "text": [
      " 56%|█████▌    | 56/100 [25:29<19:25, 26.49s/it]"
     ]
    },
    {
     "name": "stdout",
     "output_type": "stream",
     "text": [
      "Train acc: 0.850, Val acc: 0.765\n",
      "Train loss: 0.913, Val loss: 0.979\n",
      "Epoch 57 Finished!!!\n"
     ]
    },
    {
     "name": "stderr",
     "output_type": "stream",
     "text": [
      " 57%|█████▋    | 57/100 [25:55<18:56, 26.43s/it]"
     ]
    },
    {
     "name": "stdout",
     "output_type": "stream",
     "text": [
      "Train acc: 0.830, Val acc: 0.769\n",
      "Train loss: 0.952, Val loss: 0.982\n",
      "Epoch 58 Finished!!!\n"
     ]
    },
    {
     "name": "stderr",
     "output_type": "stream",
     "text": [
      " 58%|█████▊    | 58/100 [26:22<18:28, 26.39s/it]"
     ]
    },
    {
     "name": "stdout",
     "output_type": "stream",
     "text": [
      "Train acc: 0.820, Val acc: 0.797\n",
      "Train loss: 0.931, Val loss: 0.960\n",
      "Epoch 59 Finished!!!\n"
     ]
    },
    {
     "name": "stderr",
     "output_type": "stream",
     "text": [
      " 59%|█████▉    | 59/100 [26:49<18:11, 26.63s/it]"
     ]
    },
    {
     "name": "stdout",
     "output_type": "stream",
     "text": [
      "Train acc: 0.880, Val acc: 0.772\n",
      "Train loss: 0.899, Val loss: 0.975\n",
      "Epoch 60 Finished!!!\n"
     ]
    },
    {
     "name": "stderr",
     "output_type": "stream",
     "text": [
      " 60%|██████    | 60/100 [27:15<17:43, 26.59s/it]"
     ]
    },
    {
     "name": "stdout",
     "output_type": "stream",
     "text": [
      "Train acc: 0.760, Val acc: 0.780\n",
      "Train loss: 0.986, Val loss: 0.969\n",
      "Epoch 61 Finished!!!\n"
     ]
    },
    {
     "name": "stderr",
     "output_type": "stream",
     "text": [
      " 61%|██████    | 61/100 [27:42<17:15, 26.55s/it]"
     ]
    },
    {
     "name": "stdout",
     "output_type": "stream",
     "text": [
      "Train acc: 0.850, Val acc: 0.795\n",
      "Train loss: 0.900, Val loss: 0.960\n",
      "Epoch 62 Finished!!!\n"
     ]
    },
    {
     "name": "stderr",
     "output_type": "stream",
     "text": [
      " 62%|██████▏   | 62/100 [28:08<16:48, 26.55s/it]"
     ]
    },
    {
     "name": "stdout",
     "output_type": "stream",
     "text": [
      "Train acc: 0.830, Val acc: 0.787\n",
      "Train loss: 0.919, Val loss: 0.967\n",
      "Epoch 63 Finished!!!\n"
     ]
    },
    {
     "name": "stderr",
     "output_type": "stream",
     "text": [
      " 63%|██████▎   | 63/100 [28:35<16:19, 26.48s/it]"
     ]
    },
    {
     "name": "stdout",
     "output_type": "stream",
     "text": [
      "Train acc: 0.810, Val acc: 0.797\n",
      "Train loss: 0.953, Val loss: 0.956\n",
      "Epoch 64 Finished!!!\n"
     ]
    },
    {
     "name": "stderr",
     "output_type": "stream",
     "text": [
      " 64%|██████▍   | 64/100 [29:01<15:51, 26.42s/it]"
     ]
    },
    {
     "name": "stdout",
     "output_type": "stream",
     "text": [
      "Train acc: 0.820, Val acc: 0.792\n",
      "Train loss: 0.933, Val loss: 0.962\n",
      "Epoch 65 Finished!!!\n"
     ]
    },
    {
     "name": "stderr",
     "output_type": "stream",
     "text": [
      " 65%|██████▌   | 65/100 [29:27<15:23, 26.38s/it]"
     ]
    },
    {
     "name": "stdout",
     "output_type": "stream",
     "text": [
      "Train acc: 0.870, Val acc: 0.810\n",
      "Train loss: 0.890, Val loss: 0.947\n",
      "Epoch 66 Finished!!!\n"
     ]
    },
    {
     "name": "stderr",
     "output_type": "stream",
     "text": [
      " 66%|██████▌   | 66/100 [29:54<14:56, 26.36s/it]"
     ]
    },
    {
     "name": "stdout",
     "output_type": "stream",
     "text": [
      "Train acc: 0.920, Val acc: 0.805\n",
      "Train loss: 0.832, Val loss: 0.947\n",
      "Epoch 67 Finished!!!\n"
     ]
    },
    {
     "name": "stderr",
     "output_type": "stream",
     "text": [
      " 67%|██████▋   | 67/100 [30:20<14:30, 26.37s/it]"
     ]
    },
    {
     "name": "stdout",
     "output_type": "stream",
     "text": [
      "Train acc: 0.810, Val acc: 0.797\n",
      "Train loss: 0.941, Val loss: 0.953\n",
      "Epoch 68 Finished!!!\n"
     ]
    },
    {
     "name": "stderr",
     "output_type": "stream",
     "text": [
      " 68%|██████▊   | 68/100 [30:46<14:03, 26.36s/it]"
     ]
    },
    {
     "name": "stdout",
     "output_type": "stream",
     "text": [
      "Train acc: 0.830, Val acc: 0.803\n",
      "Train loss: 0.914, Val loss: 0.950\n",
      "Epoch 69 Finished!!!\n"
     ]
    },
    {
     "name": "stderr",
     "output_type": "stream",
     "text": [
      " 69%|██████▉   | 69/100 [31:13<13:37, 26.36s/it]"
     ]
    },
    {
     "name": "stdout",
     "output_type": "stream",
     "text": [
      "Train acc: 0.840, Val acc: 0.799\n",
      "Train loss: 0.914, Val loss: 0.951\n",
      "Epoch 70 Finished!!!\n"
     ]
    },
    {
     "name": "stderr",
     "output_type": "stream",
     "text": [
      " 70%|███████   | 70/100 [31:39<13:10, 26.35s/it]"
     ]
    },
    {
     "name": "stdout",
     "output_type": "stream",
     "text": [
      "Train acc: 0.800, Val acc: 0.805\n",
      "Train loss: 0.940, Val loss: 0.948\n",
      "Epoch 71 Finished!!!\n"
     ]
    },
    {
     "name": "stderr",
     "output_type": "stream",
     "text": [
      " 71%|███████   | 71/100 [32:05<12:44, 26.36s/it]"
     ]
    },
    {
     "name": "stdout",
     "output_type": "stream",
     "text": [
      "Train acc: 0.800, Val acc: 0.820\n",
      "Train loss: 0.929, Val loss: 0.936\n",
      "Epoch 72 Finished!!!\n"
     ]
    },
    {
     "name": "stderr",
     "output_type": "stream",
     "text": [
      " 72%|███████▏  | 72/100 [32:32<12:17, 26.35s/it]"
     ]
    },
    {
     "name": "stdout",
     "output_type": "stream",
     "text": [
      "Train acc: 0.840, Val acc: 0.831\n",
      "Train loss: 0.916, Val loss: 0.924\n",
      "Epoch 73 Finished!!!\n"
     ]
    },
    {
     "name": "stderr",
     "output_type": "stream",
     "text": [
      " 73%|███████▎  | 73/100 [32:58<11:52, 26.38s/it]"
     ]
    },
    {
     "name": "stdout",
     "output_type": "stream",
     "text": [
      "Train acc: 0.880, Val acc: 0.838\n",
      "Train loss: 0.872, Val loss: 0.921\n",
      "Epoch 74 Finished!!!\n"
     ]
    },
    {
     "name": "stderr",
     "output_type": "stream",
     "text": [
      " 74%|███████▍  | 74/100 [33:25<11:25, 26.36s/it]"
     ]
    },
    {
     "name": "stdout",
     "output_type": "stream",
     "text": [
      "Train acc: 0.870, Val acc: 0.815\n",
      "Train loss: 0.898, Val loss: 0.937\n",
      "Epoch 75 Finished!!!\n"
     ]
    },
    {
     "name": "stderr",
     "output_type": "stream",
     "text": [
      " 75%|███████▌  | 75/100 [33:51<10:58, 26.35s/it]"
     ]
    },
    {
     "name": "stdout",
     "output_type": "stream",
     "text": [
      "Train acc: 0.910, Val acc: 0.823\n",
      "Train loss: 0.848, Val loss: 0.932\n",
      "Epoch 76 Finished!!!\n"
     ]
    },
    {
     "name": "stderr",
     "output_type": "stream",
     "text": [
      " 76%|███████▌  | 76/100 [34:17<10:32, 26.34s/it]"
     ]
    },
    {
     "name": "stdout",
     "output_type": "stream",
     "text": [
      "Train acc: 0.910, Val acc: 0.827\n",
      "Train loss: 0.848, Val loss: 0.928\n",
      "Epoch 77 Finished!!!\n"
     ]
    },
    {
     "name": "stderr",
     "output_type": "stream",
     "text": [
      " 77%|███████▋  | 77/100 [34:44<10:05, 26.33s/it]"
     ]
    },
    {
     "name": "stdout",
     "output_type": "stream",
     "text": [
      "Train acc: 0.840, Val acc: 0.835\n",
      "Train loss: 0.918, Val loss: 0.924\n",
      "Epoch 78 Finished!!!\n"
     ]
    },
    {
     "name": "stderr",
     "output_type": "stream",
     "text": [
      " 78%|███████▊  | 78/100 [35:10<09:40, 26.40s/it]"
     ]
    },
    {
     "name": "stdout",
     "output_type": "stream",
     "text": [
      "Train acc: 0.920, Val acc: 0.841\n",
      "Train loss: 0.852, Val loss: 0.917\n",
      "Epoch 79 Finished!!!\n"
     ]
    },
    {
     "name": "stderr",
     "output_type": "stream",
     "text": [
      " 79%|███████▉  | 79/100 [35:36<09:14, 26.41s/it]"
     ]
    },
    {
     "name": "stdout",
     "output_type": "stream",
     "text": [
      "Train acc: 0.910, Val acc: 0.835\n",
      "Train loss: 0.843, Val loss: 0.918\n",
      "Epoch 80 Finished!!!\n"
     ]
    },
    {
     "name": "stderr",
     "output_type": "stream",
     "text": [
      " 80%|████████  | 80/100 [36:03<08:47, 26.38s/it]"
     ]
    },
    {
     "name": "stdout",
     "output_type": "stream",
     "text": [
      "Train acc: 0.840, Val acc: 0.832\n",
      "Train loss: 0.910, Val loss: 0.925\n",
      "Epoch 81 Finished!!!\n"
     ]
    },
    {
     "name": "stderr",
     "output_type": "stream",
     "text": [
      " 81%|████████  | 81/100 [36:29<08:21, 26.39s/it]"
     ]
    },
    {
     "name": "stdout",
     "output_type": "stream",
     "text": [
      "Train acc: 0.860, Val acc: 0.831\n",
      "Train loss: 0.893, Val loss: 0.927\n",
      "Epoch 82 Finished!!!\n"
     ]
    },
    {
     "name": "stderr",
     "output_type": "stream",
     "text": [
      " 82%|████████▏ | 82/100 [36:56<07:54, 26.36s/it]"
     ]
    },
    {
     "name": "stdout",
     "output_type": "stream",
     "text": [
      "Train acc: 0.830, Val acc: 0.837\n",
      "Train loss: 0.933, Val loss: 0.918\n",
      "Epoch 83 Finished!!!\n"
     ]
    },
    {
     "name": "stderr",
     "output_type": "stream",
     "text": [
      " 83%|████████▎ | 83/100 [37:22<07:28, 26.37s/it]"
     ]
    },
    {
     "name": "stdout",
     "output_type": "stream",
     "text": [
      "Train acc: 0.920, Val acc: 0.848\n",
      "Train loss: 0.834, Val loss: 0.910\n",
      "Epoch 84 Finished!!!\n"
     ]
    },
    {
     "name": "stderr",
     "output_type": "stream",
     "text": [
      " 84%|████████▍ | 84/100 [37:48<07:02, 26.39s/it]"
     ]
    },
    {
     "name": "stdout",
     "output_type": "stream",
     "text": [
      "Train acc: 0.960, Val acc: 0.849\n",
      "Train loss: 0.796, Val loss: 0.907\n",
      "Epoch 85 Finished!!!\n"
     ]
    },
    {
     "name": "stderr",
     "output_type": "stream",
     "text": [
      " 85%|████████▌ | 85/100 [38:15<06:38, 26.54s/it]"
     ]
    },
    {
     "name": "stdout",
     "output_type": "stream",
     "text": [
      "Train acc: 0.880, Val acc: 0.830\n",
      "Train loss: 0.871, Val loss: 0.924\n",
      "Epoch 86 Finished!!!\n"
     ]
    },
    {
     "name": "stderr",
     "output_type": "stream",
     "text": [
      " 86%|████████▌ | 86/100 [38:42<06:10, 26.49s/it]"
     ]
    },
    {
     "name": "stdout",
     "output_type": "stream",
     "text": [
      "Train acc: 0.880, Val acc: 0.828\n",
      "Train loss: 0.880, Val loss: 0.919\n",
      "Epoch 87 Finished!!!\n"
     ]
    },
    {
     "name": "stderr",
     "output_type": "stream",
     "text": [
      " 87%|████████▋ | 87/100 [39:08<05:43, 26.45s/it]"
     ]
    },
    {
     "name": "stdout",
     "output_type": "stream",
     "text": [
      "Train acc: 0.920, Val acc: 0.840\n",
      "Train loss: 0.841, Val loss: 0.911\n",
      "Epoch 88 Finished!!!\n"
     ]
    },
    {
     "name": "stderr",
     "output_type": "stream",
     "text": [
      " 88%|████████▊ | 88/100 [39:34<05:17, 26.43s/it]"
     ]
    },
    {
     "name": "stdout",
     "output_type": "stream",
     "text": [
      "Train acc: 0.910, Val acc: 0.843\n",
      "Train loss: 0.839, Val loss: 0.909\n",
      "Epoch 89 Finished!!!\n"
     ]
    },
    {
     "name": "stderr",
     "output_type": "stream",
     "text": [
      " 89%|████████▉ | 89/100 [40:01<04:50, 26.41s/it]"
     ]
    },
    {
     "name": "stdout",
     "output_type": "stream",
     "text": [
      "Train acc: 0.920, Val acc: 0.853\n",
      "Train loss: 0.835, Val loss: 0.898\n",
      "Epoch 90 Finished!!!\n"
     ]
    },
    {
     "name": "stderr",
     "output_type": "stream",
     "text": [
      " 90%|█████████ | 90/100 [40:27<04:25, 26.52s/it]"
     ]
    },
    {
     "name": "stdout",
     "output_type": "stream",
     "text": [
      "Train acc: 0.890, Val acc: 0.840\n",
      "Train loss: 0.844, Val loss: 0.908\n",
      "Epoch 91 Finished!!!\n"
     ]
    },
    {
     "name": "stderr",
     "output_type": "stream",
     "text": [
      " 91%|█████████ | 91/100 [40:54<03:58, 26.51s/it]"
     ]
    },
    {
     "name": "stdout",
     "output_type": "stream",
     "text": [
      "Train acc: 0.870, Val acc: 0.844\n",
      "Train loss: 0.888, Val loss: 0.907\n",
      "Epoch 92 Finished!!!\n"
     ]
    },
    {
     "name": "stderr",
     "output_type": "stream",
     "text": [
      " 92%|█████████▏| 92/100 [41:20<03:31, 26.46s/it]"
     ]
    },
    {
     "name": "stdout",
     "output_type": "stream",
     "text": [
      "Train acc: 0.880, Val acc: 0.857\n",
      "Train loss: 0.880, Val loss: 0.899\n",
      "Epoch 93 Finished!!!\n"
     ]
    },
    {
     "name": "stderr",
     "output_type": "stream",
     "text": [
      " 93%|█████████▎| 93/100 [41:47<03:05, 26.46s/it]"
     ]
    },
    {
     "name": "stdout",
     "output_type": "stream",
     "text": [
      "Train acc: 0.950, Val acc: 0.830\n",
      "Train loss: 0.800, Val loss: 0.922\n",
      "Epoch 94 Finished!!!\n"
     ]
    },
    {
     "name": "stderr",
     "output_type": "stream",
     "text": [
      " 94%|█████████▍| 94/100 [42:13<02:38, 26.43s/it]"
     ]
    },
    {
     "name": "stdout",
     "output_type": "stream",
     "text": [
      "Train acc: 0.910, Val acc: 0.846\n",
      "Train loss: 0.843, Val loss: 0.905\n",
      "Epoch 95 Finished!!!\n"
     ]
    },
    {
     "name": "stderr",
     "output_type": "stream",
     "text": [
      " 95%|█████████▌| 95/100 [42:40<02:12, 26.42s/it]"
     ]
    },
    {
     "name": "stdout",
     "output_type": "stream",
     "text": [
      "Train acc: 0.980, Val acc: 0.860\n",
      "Train loss: 0.779, Val loss: 0.899\n",
      "Epoch 96 Finished!!!\n"
     ]
    },
    {
     "name": "stderr",
     "output_type": "stream",
     "text": [
      " 96%|█████████▌| 96/100 [43:06<01:45, 26.42s/it]"
     ]
    },
    {
     "name": "stdout",
     "output_type": "stream",
     "text": [
      "Train acc: 0.920, Val acc: 0.864\n",
      "Train loss: 0.840, Val loss: 0.892\n",
      "Epoch 97 Finished!!!\n"
     ]
    },
    {
     "name": "stderr",
     "output_type": "stream",
     "text": [
      " 97%|█████████▋| 97/100 [43:32<01:19, 26.39s/it]"
     ]
    },
    {
     "name": "stdout",
     "output_type": "stream",
     "text": [
      "Train acc: 0.870, Val acc: 0.857\n",
      "Train loss: 0.873, Val loss: 0.900\n",
      "Epoch 98 Finished!!!\n"
     ]
    },
    {
     "name": "stderr",
     "output_type": "stream",
     "text": [
      " 98%|█████████▊| 98/100 [43:59<00:52, 26.38s/it]"
     ]
    },
    {
     "name": "stdout",
     "output_type": "stream",
     "text": [
      "Train acc: 0.820, Val acc: 0.854\n",
      "Train loss: 0.925, Val loss: 0.896\n",
      "Epoch 99 Finished!!!\n"
     ]
    },
    {
     "name": "stderr",
     "output_type": "stream",
     "text": [
      " 99%|█████████▉| 99/100 [44:25<00:26, 26.37s/it]"
     ]
    },
    {
     "name": "stdout",
     "output_type": "stream",
     "text": [
      "Train acc: 0.920, Val acc: 0.843\n",
      "Train loss: 0.836, Val loss: 0.908\n",
      "Epoch 100 Finished!!!\n"
     ]
    },
    {
     "name": "stderr",
     "output_type": "stream",
     "text": [
      "100%|██████████| 100/100 [44:51<00:00, 26.92s/it]"
     ]
    },
    {
     "name": "stdout",
     "output_type": "stream",
     "text": [
      "Train acc: 0.950, Val acc: 0.856\n",
      "Train loss: 0.799, Val loss: 0.894\n",
      "Best val Acc: 0.864000\n"
     ]
    },
    {
     "name": "stderr",
     "output_type": "stream",
     "text": [
      "\n"
     ]
    }
   ],
   "source": [
    "train_history, val_history = np.array([]), np.array([])\n",
    "train_loss_hist, val_loss_hist = np.array([]), np.array([])\n",
    "\n",
    "with TemporaryDirectory() as tempdir:\n",
    "    best_model_params_path = os.path.join(tempdir, 'best_model_params.pt')\n",
    "\n",
    "    torch.save(model.state_dict(), best_model_params_path)\n",
    "    best_acc = 0.0\n",
    "    bsz = 100\n",
    "    num_epochs = 100\n",
    "    iteration = 0\n",
    "    total_it = num_epochs*int(x_train.shape[0]/bsz)\n",
    "    for epoch_idx in tqdm(range(num_epochs)):\n",
    "        # Set model to train mode - useful for layers such as BatchNorm or Dropout whose behaviors change between train/eval\n",
    "        model.train()\n",
    "        train_count = 0\n",
    "        train_correct_count = 0\n",
    "        for i in range(int(x_train.shape[0]/bsz)):\n",
    "            iteration+=1\n",
    "            optimizer.zero_grad() # Zero gradients, since we don't want gradients to accumulate between batches - we apply an update for each batch\n",
    "            train_x, train_y = sample(x_train, y_train, bsz)\n",
    "            logits = model(train_x) #bszx4x1x4\n",
    "            \n",
    "            logits = nn.functional.softmax(logits, dim=1)\n",
    "            loss = criterion(logits.float(), train_y.float())\n",
    "\n",
    "            loss.backward()\n",
    "            optimizer.step()\n",
    "\n",
    "            with torch.no_grad():\n",
    "                #y_hat = torch.mean(logits, dim = 2)\n",
    "                y_hat = torch.argmax(logits, dim=1)\n",
    "                train_correct_count = torch.sum(y_hat == torch.argmax(train_y, dim=1))\n",
    "                train_count = train_x.size(0)\n",
    "                train_count = float(train_count)\n",
    "            #print(f'(Iteration {iteration}/{total_it})Training Accuracy: ', (train_correct_count/train_count).item(), '. Loss: ', loss.item())\n",
    "        \n",
    "\n",
    "        train_acc = train_correct_count / train_count\n",
    "\n",
    "        model.eval()\n",
    "        val_count = 0\n",
    "        val_correct_count = 0\n",
    "        with torch.no_grad():\n",
    "            val_x = x_valid\n",
    "            val_y = y_valid\n",
    "            logits = model(val_x).detach()\n",
    "            logits = nn.functional.softmax(logits)\n",
    "            val_loss = criterion(logits.float(), val_y.float())\n",
    "            with torch.no_grad():\n",
    "                y_hat = torch.argmax(logits, dim=1)\n",
    "                val_correct_count = torch.sum(y_hat == torch.argmax(val_y, dim=1))\n",
    "                val_count = float(val_x.size(0))\n",
    "        val_acc = val_correct_count / y_valid.shape[0]\n",
    "\n",
    "        print(f'Epoch {epoch_idx+1} Finished!!!')\n",
    "        print('Train acc: {:.3f}, Val acc: {:.3f}'.format(train_acc, val_acc))\n",
    "        print('Train loss: {:.3f}, Val loss: {:.3f}'.format(loss, val_loss))\n",
    "\n",
    "        train_history = np.append(train_history, train_acc.item())\n",
    "        val_history = np.append(val_history, val_acc.item())\n",
    "        train_loss_hist = np.append(train_loss_hist, loss.item())\n",
    "        val_loss_hist = np.append(val_loss_hist, val_loss.item())\n",
    "\n",
    "        if val_acc > best_acc:\n",
    "            best_acc = val_acc\n",
    "            torch.save(model.state_dict(), best_model_params_path)\n",
    "    \n",
    "    print(f'Best val Acc: {best_acc:4f}')\n",
    "\n",
    "    # load best model weights\n",
    "    model.load_state_dict(torch.load(best_model_params_path))"
   ]
  },
  {
   "cell_type": "code",
   "execution_count": 10,
   "metadata": {},
   "outputs": [
    {
     "data": {
      "image/png": "[encoded data removed]",
      "text/plain": [
       "<Figure size 640x480 with 1 Axes>"
      ]
     },
     "metadata": {},
     "output_type": "display_data"
    },
    {
     "name": "stderr",
     "output_type": "stream",
     "text": [
      "No artists with labels found to put in legend.  Note that artists whose label start with an underscore are ignored when legend() is called with no argument.\n"
     ]
    },
    {
     "data": {
      "image/png": "[encoded data removed]",
      "text/plain": [
       "<Figure size 640x480 with 1 Axes>"
      ]
     },
     "metadata": {},
     "output_type": "display_data"
    }
   ],
   "source": [
    "plt.plot(np.arange(100),train_history,label='Training')\n",
    "plt.plot(np.arange(100),val_history,label='Validation')\n",
    "plt.title('Hybrid ResNet-LSTM model accuracy trajectory')\n",
    "plt.ylabel('Accuracy')\n",
    "plt.xlabel('Epoch')\n",
    "plt.legend()\n",
    "plt.show()\n",
    "\n",
    "plt.plot(np.arange(100),train_loss_hist,'o')\n",
    "plt.plot(np.arange(100),val_loss_hist,'o')\n",
    "plt.title('Hybrid ResNet-LSTM model loss trajectory')\n",
    "plt.ylabel('Loss')\n",
    "plt.xlabel('Epoch')\n",
    "plt.legend()\n",
    "plt.show()"
   ]
  },
  {
   "cell_type": "code",
   "execution_count": 23,
   "metadata": {},
   "outputs": [
    {
     "name": "stderr",
     "output_type": "stream",
     "text": [
      "C:\\Users\\awong\\AppData\\Local\\Temp\\ipykernel_14752\\95673719.py:8: UserWarning: Implicit dimension choice for softmax has been deprecated. Change the call to include dim=X as an argument.\n",
      "  logits = nn.functional.softmax(logits)\n"
     ]
    },
    {
     "name": "stdout",
     "output_type": "stream",
     "text": [
      "Test accuracy of the hybrid ResNet-LSTM model:  0.5282167196273804\n"
     ]
    }
   ],
   "source": [
    "model.eval()\n",
    "test_count = 0\n",
    "test_correct_count = 0\n",
    "with torch.no_grad():\n",
    "    test_x = x_test\n",
    "    test_y = y_test\n",
    "    logits = model(test_x).detach()\n",
    "    logits = nn.functional.softmax(logits)\n",
    "    test_loss = criterion(logits.float(), test_y.float())\n",
    "    with torch.no_grad():\n",
    "        y_hat = torch.argmax(logits, dim=1)\n",
    "        test_correct_count = torch.sum(y_hat == torch.argmax(test_y, dim=1))\n",
    "        test_count = float(test_x.size(0))\n",
    "test_acc = test_correct_count / test_count\n",
    "print('Test accuracy of the hybrid ResNet-LSTM model: ', test_acc.item())"
   ]
  },
  {
   "cell_type": "code",
   "execution_count": null,
   "metadata": {},
   "outputs": [],
   "source": []
  }
 ],
 "metadata": {
  "kernelspec": {
   "display_name": "c147proj",
   "language": "python",
   "name": "python3"
  },
  "language_info": {
   "codemirror_mode": {
    "name": "ipython",
    "version": 3
   },
   "file_extension": ".py",
   "mimetype": "text/x-python",
   "name": "python",
   "nbconvert_exporter": "python",
   "pygments_lexer": "ipython3",
   "version": "3.12.2"
  }
 },
 "nbformat": 4,
 "nbformat_minor": 2
}
